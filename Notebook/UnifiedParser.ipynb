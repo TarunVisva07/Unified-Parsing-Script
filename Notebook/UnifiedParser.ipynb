{
  "nbformat": 4,
  "nbformat_minor": 0,
  "metadata": {
    "colab": {
      "name": "Innovation Practices",
      "provenance": [],
      "collapsed_sections": [],
      "include_colab_link": true
    },
    "kernelspec": {
      "name": "python3",
      "display_name": "Python 3"
    },
    "language_info": {
      "name": "python"
    }
  },
  "cells": [
    {
      "cell_type": "markdown",
      "metadata": {
        "id": "view-in-github",
        "colab_type": "text"
      },
      "source": [
        "<a href=\"https://colab.research.google.com/github/TarunVisva07/Unified-Parsing-Script/blob/main/Innovation_Practices.ipynb\" target=\"_parent\"><img src=\"https://colab.research.google.com/assets/colab-badge.svg\" alt=\"Open In Colab\"/></a>"
      ]
    },
    {
      "cell_type": "markdown",
      "source": [
        "# UNIFIED PARSING SCRIPT USING MACHINE LEARNING\n",
        "## INNOVATION PRACTICES\n",
        "### BY\n",
        "#### 19Z307 - BARATH KUMAR G\n",
        "#### 19Z335 - NIRANJAN S\n",
        "#### 19Z347 - SHASHAANK R\n",
        "#### 19Z358 - TARUN VISVA R\n",
        "#### 20Z462 - MUKESH S\n",
        "#### 20Z465 - SRINIVASAN G\n",
        "### GUIDED BY\n",
        "#### DR. SUDHA SADHASIVAM G"
      ],
      "metadata": {
        "id": "sM_Z5ZUgnDor"
      }
    },
    {
      "cell_type": "markdown",
      "source": [
        "## HEADERS & LIBRARIES"
      ],
      "metadata": {
        "id": "iv3ncR98oGQs"
      }
    },
    {
      "cell_type": "code",
      "source": [
        "from google.colab import drive\n",
        "drive.mount('/content/drive')"
      ],
      "metadata": {
        "id": "Du9fSuj0t6Oe",
        "colab": {
          "base_uri": "https://localhost:8080/"
        },
        "outputId": "b6812796-0ef2-4ebe-e538-2cc9387351ff"
      },
      "execution_count": null,
      "outputs": [
        {
          "output_type": "stream",
          "name": "stdout",
          "text": [
            "Mounted at /content/drive\n"
          ]
        }
      ]
    },
    {
      "cell_type": "code",
      "execution_count": null,
      "metadata": {
        "id": "nw6e4RQ0nARc",
        "colab": {
          "base_uri": "https://localhost:8080/"
        },
        "outputId": "54d74da6-6073-4233-a5b9-37e96fe4da14"
      },
      "outputs": [
        {
          "output_type": "stream",
          "name": "stdout",
          "text": [
            "\r0% [Working]\r            \rGet:1 https://developer.download.nvidia.com/compute/cuda/repos/ubuntu1804/x86_64  InRelease [1,581 B]\n",
            "\r0% [Connecting to archive.ubuntu.com] [Connecting to security.ubuntu.com (185.1\r0% [Connecting to archive.ubuntu.com] [Connecting to security.ubuntu.com (185.1\r                                                                               \rGet:2 https://cloud.r-project.org/bin/linux/ubuntu bionic-cran40/ InRelease [3,626 B]\n",
            "\r0% [Connecting to archive.ubuntu.com] [Connecting to security.ubuntu.com (185.1\r0% [1 InRelease gpgv 1,581 B] [Connecting to archive.ubuntu.com] [Connecting to\r                                                                               \rIgn:3 https://developer.download.nvidia.com/compute/machine-learning/repos/ubuntu1804/x86_64  InRelease\n",
            "\r0% [1 InRelease gpgv 1,581 B] [Connecting to archive.ubuntu.com] [Connecting to\r                                                                               \rHit:4 https://developer.download.nvidia.com/compute/machine-learning/repos/ubuntu1804/x86_64  Release\n",
            "Get:5 https://developer.download.nvidia.com/compute/cuda/repos/ubuntu1804/x86_64  Packages [787 kB]\n",
            "Hit:6 http://archive.ubuntu.com/ubuntu bionic InRelease\n",
            "Hit:7 http://ppa.launchpad.net/c2d4u.team/c2d4u4.0+/ubuntu bionic InRelease\n",
            "Get:8 http://security.ubuntu.com/ubuntu bionic-security InRelease [88.7 kB]\n",
            "Get:9 http://archive.ubuntu.com/ubuntu bionic-updates InRelease [88.7 kB]\n",
            "Hit:10 http://ppa.launchpad.net/cran/libgit2/ubuntu bionic InRelease\n",
            "Get:11 http://archive.ubuntu.com/ubuntu bionic-backports InRelease [74.6 kB]\n",
            "Get:13 http://ppa.launchpad.net/deadsnakes/ppa/ubuntu bionic InRelease [15.9 kB]\n",
            "Get:14 http://ppa.launchpad.net/graphics-drivers/ppa/ubuntu bionic InRelease [21.3 kB]\n",
            "Get:15 http://archive.ubuntu.com/ubuntu bionic-updates/multiverse amd64 Packages [29.8 kB]\n",
            "Get:16 http://archive.ubuntu.com/ubuntu bionic-updates/main amd64 Packages [3,214 kB]\n",
            "Get:17 http://archive.ubuntu.com/ubuntu bionic-updates/restricted amd64 Packages [983 kB]\n",
            "Get:18 http://archive.ubuntu.com/ubuntu bionic-updates/universe amd64 Packages [2,278 kB]\n",
            "Get:19 http://security.ubuntu.com/ubuntu bionic-security/universe amd64 Packages [1,503 kB]\n",
            "Get:20 http://ppa.launchpad.net/deadsnakes/ppa/ubuntu bionic/main amd64 Packages [45.3 kB]\n",
            "Get:21 http://security.ubuntu.com/ubuntu bionic-security/main amd64 Packages [2,779 kB]\n",
            "Get:22 http://ppa.launchpad.net/graphics-drivers/ppa/ubuntu bionic/main amd64 Packages [44.3 kB]\n",
            "Get:23 http://security.ubuntu.com/ubuntu bionic-security/multiverse amd64 Packages [22.8 kB]\n",
            "Get:24 http://security.ubuntu.com/ubuntu bionic-security/restricted amd64 Packages [949 kB]\n",
            "Fetched 12.9 MB in 3s (3,706 kB/s)\n",
            "Reading package lists... Done\n",
            "Reading package lists... Done\n",
            "Building dependency tree       \n",
            "Reading state information... Done\n",
            "The following package was automatically installed and is no longer required:\n",
            "  libnvidia-common-460\n",
            "Use 'apt autoremove' to remove it.\n",
            "The following additional packages will be installed:\n",
            "  chromium-browser chromium-browser-l10n chromium-codecs-ffmpeg-extra\n",
            "Suggested packages:\n",
            "  webaccounts-chromium-extension unity-chromium-extension\n",
            "The following NEW packages will be installed:\n",
            "  chromium-browser chromium-browser-l10n chromium-chromedriver\n",
            "  chromium-codecs-ffmpeg-extra\n",
            "0 upgraded, 4 newly installed, 0 to remove and 56 not upgraded.\n",
            "Need to get 89.8 MB of archives.\n",
            "After this operation, 302 MB of additional disk space will be used.\n",
            "Get:1 http://archive.ubuntu.com/ubuntu bionic-updates/universe amd64 chromium-codecs-ffmpeg-extra amd64 101.0.4951.64-0ubuntu0.18.04.1 [1,142 kB]\n",
            "Get:2 http://archive.ubuntu.com/ubuntu bionic-updates/universe amd64 chromium-browser amd64 101.0.4951.64-0ubuntu0.18.04.1 [78.5 MB]\n",
            "Get:3 http://archive.ubuntu.com/ubuntu bionic-updates/universe amd64 chromium-browser-l10n all 101.0.4951.64-0ubuntu0.18.04.1 [4,980 kB]\n",
            "Get:4 http://archive.ubuntu.com/ubuntu bionic-updates/universe amd64 chromium-chromedriver amd64 101.0.4951.64-0ubuntu0.18.04.1 [5,153 kB]\n",
            "Fetched 89.8 MB in 3s (29.9 MB/s)\n",
            "Selecting previously unselected package chromium-codecs-ffmpeg-extra.\n",
            "(Reading database ... 155629 files and directories currently installed.)\n",
            "Preparing to unpack .../chromium-codecs-ffmpeg-extra_101.0.4951.64-0ubuntu0.18.04.1_amd64.deb ...\n",
            "Unpacking chromium-codecs-ffmpeg-extra (101.0.4951.64-0ubuntu0.18.04.1) ...\n",
            "Selecting previously unselected package chromium-browser.\n",
            "Preparing to unpack .../chromium-browser_101.0.4951.64-0ubuntu0.18.04.1_amd64.deb ...\n",
            "Unpacking chromium-browser (101.0.4951.64-0ubuntu0.18.04.1) ...\n",
            "Selecting previously unselected package chromium-browser-l10n.\n",
            "Preparing to unpack .../chromium-browser-l10n_101.0.4951.64-0ubuntu0.18.04.1_all.deb ...\n",
            "Unpacking chromium-browser-l10n (101.0.4951.64-0ubuntu0.18.04.1) ...\n",
            "Selecting previously unselected package chromium-chromedriver.\n",
            "Preparing to unpack .../chromium-chromedriver_101.0.4951.64-0ubuntu0.18.04.1_amd64.deb ...\n",
            "Unpacking chromium-chromedriver (101.0.4951.64-0ubuntu0.18.04.1) ...\n",
            "Setting up chromium-codecs-ffmpeg-extra (101.0.4951.64-0ubuntu0.18.04.1) ...\n",
            "Setting up chromium-browser (101.0.4951.64-0ubuntu0.18.04.1) ...\n",
            "update-alternatives: using /usr/bin/chromium-browser to provide /usr/bin/x-www-browser (x-www-browser) in auto mode\n",
            "update-alternatives: using /usr/bin/chromium-browser to provide /usr/bin/gnome-www-browser (gnome-www-browser) in auto mode\n",
            "Setting up chromium-chromedriver (101.0.4951.64-0ubuntu0.18.04.1) ...\n",
            "Setting up chromium-browser-l10n (101.0.4951.64-0ubuntu0.18.04.1) ...\n",
            "Processing triggers for man-db (2.8.3-2ubuntu0.1) ...\n",
            "Processing triggers for hicolor-icon-theme (0.17-2) ...\n",
            "Processing triggers for mime-support (3.60ubuntu1) ...\n",
            "Processing triggers for libc-bin (2.27-3ubuntu1.3) ...\n",
            "/sbin/ldconfig.real: /usr/local/lib/python3.7/dist-packages/ideep4py/lib/libmkldnn.so.0 is not a symbolic link\n",
            "\n",
            "cp: '/usr/lib/chromium-browser/chromedriver' and '/usr/bin/chromedriver' are the same file\n",
            "Looking in indexes: https://pypi.org/simple, https://us-python.pkg.dev/colab-wheels/public/simple/\n",
            "Collecting selenium\n",
            "  Downloading selenium-4.1.5-py3-none-any.whl (979 kB)\n",
            "\u001b[K     |████████████████████████████████| 979 kB 7.8 MB/s \n",
            "\u001b[?25hCollecting trio~=0.17\n",
            "  Downloading trio-0.20.0-py3-none-any.whl (359 kB)\n",
            "\u001b[K     |████████████████████████████████| 359 kB 42.0 MB/s \n",
            "\u001b[?25hCollecting trio-websocket~=0.9\n",
            "  Downloading trio_websocket-0.9.2-py3-none-any.whl (16 kB)\n",
            "Collecting urllib3[secure,socks]~=1.26\n",
            "  Downloading urllib3-1.26.9-py2.py3-none-any.whl (138 kB)\n",
            "\u001b[K     |████████████████████████████████| 138 kB 73.4 MB/s \n",
            "\u001b[?25hCollecting sniffio\n",
            "  Downloading sniffio-1.2.0-py3-none-any.whl (10 kB)\n",
            "Requirement already satisfied: idna in /usr/local/lib/python3.7/dist-packages (from trio~=0.17->selenium) (2.10)\n",
            "Requirement already satisfied: sortedcontainers in /usr/local/lib/python3.7/dist-packages (from trio~=0.17->selenium) (2.4.0)\n",
            "Requirement already satisfied: attrs>=19.2.0 in /usr/local/lib/python3.7/dist-packages (from trio~=0.17->selenium) (21.4.0)\n",
            "Collecting async-generator>=1.9\n",
            "  Downloading async_generator-1.10-py3-none-any.whl (18 kB)\n",
            "Collecting outcome\n",
            "  Downloading outcome-1.1.0-py2.py3-none-any.whl (9.7 kB)\n",
            "Collecting wsproto>=0.14\n",
            "  Downloading wsproto-1.1.0-py3-none-any.whl (24 kB)\n",
            "Requirement already satisfied: PySocks!=1.5.7,<2.0,>=1.5.6 in /usr/local/lib/python3.7/dist-packages (from urllib3[secure,socks]~=1.26->selenium) (1.7.1)\n",
            "Requirement already satisfied: certifi in /usr/local/lib/python3.7/dist-packages (from urllib3[secure,socks]~=1.26->selenium) (2022.5.18.1)\n",
            "Collecting cryptography>=1.3.4\n",
            "  Downloading cryptography-37.0.2-cp36-abi3-manylinux_2_24_x86_64.whl (4.0 MB)\n",
            "\u001b[K     |████████████████████████████████| 4.0 MB 45.4 MB/s \n",
            "\u001b[?25hCollecting pyOpenSSL>=0.14\n",
            "  Downloading pyOpenSSL-22.0.0-py2.py3-none-any.whl (55 kB)\n",
            "\u001b[K     |████████████████████████████████| 55 kB 3.4 MB/s \n",
            "\u001b[?25hRequirement already satisfied: cffi>=1.12 in /usr/local/lib/python3.7/dist-packages (from cryptography>=1.3.4->urllib3[secure,socks]~=1.26->selenium) (1.15.0)\n",
            "Requirement already satisfied: pycparser in /usr/local/lib/python3.7/dist-packages (from cffi>=1.12->cryptography>=1.3.4->urllib3[secure,socks]~=1.26->selenium) (2.21)\n",
            "Collecting h11<1,>=0.9.0\n",
            "  Downloading h11-0.13.0-py3-none-any.whl (58 kB)\n",
            "\u001b[K     |████████████████████████████████| 58 kB 3.5 MB/s \n",
            "\u001b[?25hRequirement already satisfied: typing-extensions in /usr/local/lib/python3.7/dist-packages (from h11<1,>=0.9.0->wsproto>=0.14->trio-websocket~=0.9->selenium) (4.2.0)\n",
            "Installing collected packages: sniffio, outcome, h11, cryptography, async-generator, wsproto, urllib3, trio, pyOpenSSL, trio-websocket, selenium\n",
            "  Attempting uninstall: urllib3\n",
            "    Found existing installation: urllib3 1.24.3\n",
            "    Uninstalling urllib3-1.24.3:\n",
            "      Successfully uninstalled urllib3-1.24.3\n",
            "\u001b[31mERROR: pip's dependency resolver does not currently take into account all the packages that are installed. This behaviour is the source of the following dependency conflicts.\n",
            "requests 2.23.0 requires urllib3!=1.25.0,!=1.25.1,<1.26,>=1.21.1, but you have urllib3 1.26.9 which is incompatible.\n",
            "datascience 0.10.6 requires folium==0.2.1, but you have folium 0.8.3 which is incompatible.\u001b[0m\n",
            "Successfully installed async-generator-1.10 cryptography-37.0.2 h11-0.13.0 outcome-1.1.0 pyOpenSSL-22.0.0 selenium-4.1.5 sniffio-1.2.0 trio-0.20.0 trio-websocket-0.9.2 urllib3-1.26.9 wsproto-1.1.0\n"
          ]
        }
      ],
      "source": [
        "!apt-get update\n",
        "!apt install chromium-chromedriver\n",
        "!cp /usr/lib/chromium-browser/chromedriver /usr/bin\n",
        "!pip install selenium"
      ]
    },
    {
      "cell_type": "code",
      "source": [
        "from selenium import webdriver\n",
        "from selenium.webdriver.common.by import By\n",
        "import pandas as pd\n",
        "import ast\n",
        "import math\n",
        "import matplotlib.pyplot as plt\n",
        "import numpy as np\n",
        "from PIL import Image\n",
        "import seaborn as sns\n",
        "import numpy as np\n",
        "from sklearn.linear_model import LinearRegression\n",
        "import pickle"
      ],
      "metadata": {
        "id": "7Wj8ZMBnoi5E"
      },
      "execution_count": null,
      "outputs": []
    },
    {
      "cell_type": "markdown",
      "source": [
        "## MODEL"
      ],
      "metadata": {
        "id": "QyFCcsj4trfG"
      }
    },
    {
      "cell_type": "code",
      "source": [
        "class Element:\n",
        "  def __init__(self, e):\n",
        "    self.text = ''\n",
        "    self.tag_name = ''\n",
        "    self.size = {'height' : 0, 'width' : 0}\n",
        "    self.location = {'x' : 0, 'y' : 0}\n",
        "\n",
        "    try:\n",
        "      self.text = e.text\n",
        "    except:\n",
        "      pass\n",
        "    try:\n",
        "      self.tag_name = e.tag_name\n",
        "    except:\n",
        "      pass\n",
        "    try:\n",
        "      self.size = e.size\n",
        "    except:\n",
        "      pass\n",
        "    try:\n",
        "      self.location = e.location\n",
        "    except:\n",
        "      pass"
      ],
      "metadata": {
        "id": "bOUczmRkr55H"
      },
      "execution_count": null,
      "outputs": []
    },
    {
      "cell_type": "code",
      "source": [
        "class Unified_Parsing_Script:\n",
        "  def __init__(self):\n",
        "    self.frame = []\n",
        "    self.tags = dict()\n",
        "    self.area = dict()\n",
        "\n",
        "  # Convert DataFrame to a favourable data type (lists)\n",
        "  def extract_info_from_df(self, df):\n",
        "    f_products = []\n",
        "\n",
        "    for index, row in df.iterrows():\n",
        "      product_info = dict()\n",
        "\n",
        "      p_name = row['product_name']\n",
        "      body_d = ast.literal_eval(row['body_dimension'])\n",
        "      name_d = ast.literal_eval(row['name_dimension'])\n",
        "\n",
        "      product_info['product_name'] = p_name\n",
        "      product_info['body_dimension'] = body_d\n",
        "      product_info['name_dimension'] = name_d\n",
        "\n",
        "      f_products.append(product_info)\n",
        "    \n",
        "    return f_products\n",
        "\n",
        "  # Moves the body's starting location to (0, 0) and shifts location of product name correspondingly\n",
        "  def fix_starting_locations(self, products):\n",
        "    for i in range(len(products)):\n",
        "      if products[i]['body_dimension']['x'] != 0 or products[i]['body_dimension']['y'] != 0:\n",
        "        products[i]['name_dimension']['x'] -= products[i]['body_dimension']['x']\n",
        "        products[i]['name_dimension']['y'] -= products[i]['body_dimension']['y']\n",
        "\n",
        "        products[i]['body_dimension']['x'] = 0\n",
        "        products[i]['body_dimension']['y'] = 0\n",
        "\n",
        "    return products\n",
        "\n",
        "  def find_mean_dimensions(self, products):\n",
        "    h_sum = 0\n",
        "    w_sum = 0\n",
        "\n",
        "    for p in products:\n",
        "      h_sum += p['body_dimension']['height']\n",
        "      w_sum += p['body_dimension']['width']\n",
        "    \n",
        "    return [math.ceil((h_sum/len(products))/50) * 50, math.ceil((w_sum/len(products))/50) * 50] \n",
        "\n",
        "  def scale_dimensions(self, products):\n",
        "    h_mean, w_mean = self.find_mean_dimensions(products)\n",
        "\n",
        "    for i in range(len(products)):\n",
        "      w_scale = w_mean / products[i]['body_dimension']['width']\n",
        "      products[i]['body_dimension']['width'] = w_mean\n",
        "      products[i]['name_dimension']['width'] = math.ceil(products[i]['name_dimension']['width'] * w_scale)\n",
        "      products[i]['name_dimension']['x'] = math.floor(products[i]['name_dimension']['x'] * w_scale)\n",
        "    \n",
        "    return products\n",
        "  \n",
        "  def initialise_frame(self, f_products):\n",
        "    h_mean, w_mean = self.find_mean_dimensions(f_products)\n",
        "\n",
        "    x = [[1 for _ in range(w_mean)] for i in range(10000)]\n",
        "\n",
        "    return x\n",
        "\n",
        "  def fill_frame(self, product):\n",
        "    for i in range(product['name_dimension']['height']):\n",
        "      for j in range(product['name_dimension']['width']):\n",
        "        try:\n",
        "          self.frame[i + product['name_dimension']['y']][j + product['name_dimension']['x']] += 1\n",
        "        except:\n",
        "          pass\n",
        "\n",
        "  def heatmap2d(self, arr: np.ndarray):\n",
        "    f = plt.figure()\n",
        "    f.set_figwidth(5)\n",
        "    f.set_figheight(8)\n",
        "\n",
        "    plt.imshow(arr, cmap='viridis')\n",
        "    plt.colorbar()\n",
        "    plt.show()\n",
        "\n",
        "  def visualize_frame(self, length = -1):\n",
        "    if length == -1:\n",
        "      length = len(self.frame)\n",
        "    self.heatmap2d(np.matrix(self.frame[:length]))\n",
        "\n",
        "  def convert_prob(self, count):\n",
        "    for i in range(len(self.frame)):\n",
        "      for j in range(len(self.frame[0])):\n",
        "        self.frame[i][j] /= count\n",
        "\n",
        "  def train_position_based_model(self, df):\n",
        "    products = self.extract_info_from_df(df)\n",
        "    products = self.fix_starting_locations(products)\n",
        "    products = self.scale_dimensions(products)\n",
        "\n",
        "    self.frame = self.initialise_frame(products)\n",
        "\n",
        "    for p in products:\n",
        "      self.fill_frame(p)\n",
        "    \n",
        "    self.convert_prob(len(products))\n",
        "\n",
        "    print(\"<-- Training of the position based model has completed -->\")\n",
        "\n",
        "  def fetch_all_elements(self, link):\n",
        "    options = webdriver.ChromeOptions()\n",
        "    options.add_argument('--headless')\n",
        "    options.add_argument('--no-sandbox')\n",
        "    options.add_argument('--disable-dev-shm-usage')\n",
        "\n",
        "    driver = webdriver.Chrome('chromedriver', options = options)\n",
        "    driver.get(link)\n",
        "\n",
        "    elements = driver.find_elements(By.XPATH, value = './/*')\n",
        "    body = driver.find_element(By.TAG_NAME, value = 'html')\n",
        "    return elements, body\n",
        "\n",
        "  def find_dimensions_location(self, element):\n",
        "    try:\n",
        "      data = element.location\n",
        "      data.update(element.size)\n",
        "      return data\n",
        "    except:\n",
        "      return -1\n",
        "\n",
        "  def scale_filter_elements(self, elements, body):\n",
        "    filtered_elements = []\n",
        "    b_dimension = self.find_dimensions_location(body)\n",
        "\n",
        "    for e in elements:\n",
        "      e_d = self.find_dimensions_location(e)\n",
        "      if e_d == -1 or e.text == '' or e_d['width'] == 0 or e_d['height'] == 0:\n",
        "        continue\n",
        "\n",
        "      e_d['x'] -= b_dimension['x']\n",
        "      e_d['y'] -= b_dimension['y']\n",
        "      filtered_elements.append([e, e_d])\n",
        "\n",
        "    b_dimension['x'] = 0\n",
        "    b_dimension['y'] = 0\n",
        "    h_mean = len(self.frame)\n",
        "    w_mean = len(self.frame[0])\n",
        "\n",
        "    for i in range(len(filtered_elements)):\n",
        "      w_scale = w_mean / b_dimension['width']\n",
        "      filtered_elements[i][1]['width'] = math.ceil(filtered_elements[i][1]['width'] * w_scale)\n",
        "      filtered_elements[i][1]['x'] = math.floor(filtered_elements[i][1]['x'] * w_scale)\n",
        "\n",
        "    return filtered_elements\n",
        "\n",
        "  def element_representation_probability(self, element):\n",
        "    try:\n",
        "      e = element[0]\n",
        "      e_d = element[1]\n",
        "      grid_sum = 0\n",
        "      grid_count = 0\n",
        "      for i in range(e_d['height']):\n",
        "        for j in range(e_d['width']):\n",
        "          try:\n",
        "            grid_sum += self.frame[i + e_d['y']][j + e_d['x']]\n",
        "            grid_count += 1\n",
        "          except:\n",
        "            pass\n",
        "\n",
        "      mean_probability = grid_sum / grid_count\n",
        "      return mean_probability\n",
        "    \n",
        "    except:\n",
        "      return 0\n",
        "\n",
        "  def get_top_n(self, probs, n = 5):\n",
        "    top_predictions = []\n",
        "    p_name_dict = list(sorted(probs.items(), key = lambda kv : kv[1], reverse = True))\n",
        "    for i in range(min(n, len(p_name_dict))):\n",
        "      top_predictions.append((p_name_dict[i][0], p_name_dict[i][1]))\n",
        "    return top_predictions\n",
        "\n",
        "  def predict_position_based_model(self, product_elements, product_body):\n",
        "    fs_elements = self.scale_filter_elements(product_elements, product_body)\n",
        "\n",
        "    position_text_probability = dict()\n",
        "    for element in fs_elements:\n",
        "      position_text_probability[element[0].text] = max(self.element_representation_probability(element),\n",
        "                                                       position_text_probability.get(element[0].text, -1))\n",
        "    \n",
        "    return position_text_probability\n",
        "\n",
        "  def tag_count(self, df):\n",
        "    tags = dict()\n",
        "    for i in df.index:\n",
        "      try:\n",
        "        elements, _ = self.fetch_all_elements(df['product_link'][i])\n",
        "        for e in elements:\n",
        "          try:\n",
        "            if e.text.strip() == df['product_name'][i].strip():\n",
        "              tags[e.tag_name] = tags.get(e.tag_name, 0) + 1\n",
        "          except:\n",
        "            continue\n",
        "\n",
        "      except:\n",
        "        continue\n",
        "\n",
        "    return tags\n",
        "\n",
        "  def train_tag_based_model(self, df):\n",
        "    self.tags = self.tag_count(df)\n",
        "\n",
        "    print(\"<-- Training of the tag based model has completed -->\")\n",
        "\n",
        "  def test_link_extraction(self, elements):\n",
        "    sum = 0\n",
        "    p_text = dict()\n",
        "    for x in self.tags:\n",
        "      sum += self.tags[x]\n",
        "\n",
        "    for e in elements:\n",
        "      try:\n",
        "        p_tag = self.tags.get(e.tag_name, 1) / sum\n",
        "        p_text[e.text] = max(p_text.get(e.text, 0), p_tag)\n",
        "      except:\n",
        "        continue\n",
        "\n",
        "    return p_text\n",
        "\n",
        "  def predict_tag_based_model(self, elements):\n",
        "    tag_text_probability = self.test_link_extraction(elements)\n",
        "    \n",
        "    return tag_text_probability\n",
        "\n",
        "  def get_areas(self, df):\n",
        "    areas = []\n",
        "    for i in range(len(df)):\n",
        "      name_dims = ast.literal_eval(df.iloc[i]['name_dimension'])\n",
        "      body_dims = ast.literal_eval(df.iloc[i]['body_dimension'])\n",
        "      name_area = name_dims['height']*name_dims['width']\n",
        "      body_area = body_dims['height']*body_dims['width']\n",
        "      areas.append(name_area)\n",
        "    return areas\n",
        "\n",
        "  def calculate_zscore(self, area):\n",
        "    mean = self.area['mean']\n",
        "    std = self.area['std']\n",
        "    zscore = (area - mean) / std\n",
        "    return zscore\n",
        "\n",
        "  def is_outlier(self, area):\n",
        "    mean = self.area['mean']\n",
        "    std = self.area['std']\n",
        "    zscore = self.calculate_zscore(area)\n",
        "    if(abs(zscore)>3):\n",
        "      return True\n",
        "    return False\n",
        "\n",
        "  def train_dimension_based_model(self, df):\n",
        "    areas = self.get_areas(df)\n",
        "    self.area['mean'] = np.mean(areas)\n",
        "    self.area['std'] = np.std(areas)\n",
        "    print(\"<-- Training of the dimension based model has completed -->\")\n",
        "\n",
        "  def get_probs(self, all_elements):\n",
        "    probs = dict()\n",
        "    for ele in all_elements:\n",
        "      try:\n",
        "        a = ele.size['height']*ele.size['width']\n",
        "        if(ele.text != \"\" and not self.is_outlier(a)):\n",
        "          zscore = self.calculate_zscore(a)\n",
        "          std = self.area['std']\n",
        "          prob = 1/(zscore*std)\n",
        "          probs[ele.text] = max(prob, probs.get(ele.text, -1))\n",
        "      except:\n",
        "        pass\n",
        "    return probs\n",
        "\n",
        "  def predict_dimension_based_model(self, elements):\n",
        "    dimension_text_probability = self.get_probs(elements)\n",
        "    \n",
        "    return dimension_text_probability\n",
        "\n",
        "  def filterer(self, element):\n",
        "    try:\n",
        "      size = element.size\n",
        "      area = size['height']*size['width']\n",
        "      return not self.is_outlier(area)\n",
        "    except Exception as e:\n",
        "      return False\n",
        "\n",
        "  def fit(self, pdf, tdf = -1, ddf = -1):\n",
        "    if tdf == -1:\n",
        "      tdf = pdf\n",
        "    if ddf == -1:\n",
        "      ddf = tdf\n",
        "\n",
        "    self.train_dimension_based_model(ddf)\n",
        "    self.train_tag_based_model(tdf)\n",
        "    self.train_position_based_model(pdf)\n",
        "\n",
        "    print(\"<-- Model fully trained -->\")\n",
        "\n",
        "  def getList(self, d):\n",
        "    result = []\n",
        "    for k in d.keys():\n",
        "      result.append(k)\n",
        "    return result\n",
        "\n",
        "  def convert_elements(self, elements):\n",
        "    filtered = []\n",
        "    for e in elements:\n",
        "      try:\n",
        "        filtered.append(Element(e))\n",
        "      except:\n",
        "        pass\n",
        "    return filtered\n",
        "\n",
        "  def predict(self, query, n = 5, default_val = 0.001, for_acc = False):\n",
        "    elements, body = self.fetch_all_elements(query)\n",
        "    filtered = list(filter(self.filterer, elements))\n",
        "    filtered = self.convert_elements(filtered)\n",
        "    tp = self.predict_tag_based_model(filtered)\n",
        "    pp = self.predict_position_based_model(filtered, body)\n",
        "\n",
        "    net_probs = dict()\n",
        "    texts = set([*tp] + [*pp])\n",
        "    for t in texts:\n",
        "      if len(t) > 0:\n",
        "        net_probs[t] = tp.get(t, default_val) * pp.get(t, default_val)\n",
        "    if for_acc:\n",
        "      dp = self.predict_dimension_based_model(filtered)\n",
        "      return self.get_top_n(net_probs, n = n), self.get_top_n(tp, n = n), self.get_top_n(pp, n = n), dp\n",
        "    else:\n",
        "      return self.get_top_n(net_probs, n = n)\n",
        "  \n",
        "  def accuracy(self, df, n = 5):\n",
        "    result = [0 for _ in range(n)]\n",
        "    result_pp = [0 for _ in range(n)]\n",
        "    result_tp = [0 for _ in range(n)]\n",
        "    result_dp = 0\n",
        "    count = 0\n",
        "    for _, row in df.iterrows():\n",
        "      count += 1\n",
        "      try:\n",
        "        predictions, predictions1, predictions2, predictions3 = self.predict(row['product_link'], n = n, for_acc = True)\n",
        "        for i in range(n):\n",
        "          try:\n",
        "            if row['product_name'].strip() == predictions[i][0].strip():\n",
        "              result[i] += 1\n",
        "          except:\n",
        "            pass\n",
        "          try:\n",
        "            if row['product_name'].strip() == predictions1[i][0].strip():\n",
        "              result_tp[i] += 1\n",
        "          except:\n",
        "            pass\n",
        "          try:\n",
        "            if row['product_name'].strip() == predictions2[i][0].strip():\n",
        "              result_pp[i] += 1\n",
        "          except:\n",
        "            pass\n",
        "        try:\n",
        "          for x in predictions3:\n",
        "            if x.strip() == row['product_name'].strip():\n",
        "              result_dp += 1\n",
        "              break\n",
        "        except:\n",
        "          pass\n",
        "      except:\n",
        "        pass\n",
        "\n",
        "    result_dp  = result_dp * 100 / count\n",
        "    for i in range(n):\n",
        "      result[i] = result[i] * 100 / count\n",
        "      result_tp[i] = result_tp[i] * 100 / count\n",
        "      result_pp[i] = result_pp[i] * 100 / count\n",
        "\n",
        "    results = {\n",
        "        'complete model' : result,\n",
        "        'tag based model' : result_tp,\n",
        "        'position based model' : result_pp,\n",
        "        'dimension based model' : result_dp\n",
        "    }\n",
        "    return results\n",
        "\n"
      ],
      "metadata": {
        "id": "XE51a7hPo9O-"
      },
      "execution_count": null,
      "outputs": []
    },
    {
      "cell_type": "markdown",
      "source": [
        "## TRAINING FOR SAMPLE DATASET - POSITION BASED"
      ],
      "metadata": {
        "id": "hFMQGGGrtppj"
      }
    },
    {
      "cell_type": "code",
      "source": [
        "df = pd.read_csv('/content/drive/MyDrive/ML/UPS_Dataset/Sample_dataset.csv')\n",
        "df"
      ],
      "metadata": {
        "colab": {
          "base_uri": "https://localhost:8080/",
          "height": 1000
        },
        "id": "tSeBq05jtozP",
        "outputId": "32081b8f-b1ac-4d6c-f289-4c2468f07d76"
      },
      "execution_count": null,
      "outputs": [
        {
          "output_type": "execute_result",
          "data": {
            "text/plain": [
              "    Unnamed: 0                                       product_link  \\\n",
              "0            0  https://www.gonoise.com/products/noise-colorfi...   \n",
              "1            1  https://in.puma.com/in/en/pd/star-vital-mens-r...   \n",
              "2            2  https://rog.asus.com/in/laptops/rog-strix/2021...   \n",
              "3            3  https://www.1mg.com/otc/tata-1mg-immunity-well...   \n",
              "4            4  https://himalayawellness.in/products/purifying...   \n",
              "5            5  https://pharmeasy.in/health-care/products/hi-l...   \n",
              "6            6  https://www.woodlandworldwide.com/collections/...   \n",
              "7            7  https://www.bajajfinservmarkets.in/emi-store/o...   \n",
              "8            8  https://www.lg.com/in/washing-machines/lg-t65s...   \n",
              "9            9  https://www.bata.in/bata-sneaker-for-men-500_0...   \n",
              "10          10  https://www.sangeethamobiles.com/product-detai...   \n",
              "11          11  https://www.sony.co.in/electronics/televisions...   \n",
              "12          12  https://www.samsung.com/in/tablets/galaxy-tab-...   \n",
              "13          13  https://www.dell.com/en-in/work/shop/shop-all-...   \n",
              "14          14  https://www.croma.com/croma-in-ear-wireless-ea...   \n",
              "15          15  https://www.nnnow.com/arrow-men-tan-round-toe-...   \n",
              "16          16  https://www.urbanladder.com/products/stanhope-...   \n",
              "17          17   https://www.mi.com/global/product/redmi-note-11/   \n",
              "18          18          https://www.realme.com/in/realme-narzo-10   \n",
              "19          19  https://www.smartprix.com/mobiles/gionee-g13-p...   \n",
              "20          20  https://www.sangeethamobiles.com/product-detai...   \n",
              "21          21  https://www.thechennaimobiles.com/led-entertai...   \n",
              "22          22  https://www.reliancedigital.in/samsung-s22-5g-...   \n",
              "23          23  https://bh.homevo.in/products/canon-eos-1500d-...   \n",
              "24          24  https://www.bigbasket.com/pd/20001214/bb-royal...   \n",
              "25          25  https://pharmeasy.in/health-care/products/sels...   \n",
              "26          26  https://www.medplusmart.com/product/kiddos-bpa...   \n",
              "27          27  https://www.indiamart.com/proddetail/stainless...   \n",
              "28          28  https://www.vinodsteel.com/tiffins/vinod-stain...   \n",
              "29          29  https://www.ajio.com/koton-checked-shirt-with-...   \n",
              "\n",
              "                                         product_name  \\\n",
              "0                                    ColorFit Ultra 2   \n",
              "1                      Star Vital Men's Running Shoes   \n",
              "2                                  ROG Strix G17 G713   \n",
              "3      Tata 1mg Immunity & Wellness Supplement Tablet   \n",
              "4                            Purifying Neem Face Wash   \n",
              "5        Hi Life Multi Layered Kn95 Mask- Single Pack   \n",
              "6                                THRILL SEEKERS CAMEL   \n",
              "7   Oppo F21 Pro 5G 128 GB Storage Rainbow Spectru...   \n",
              "8   LG 6.5 kg 5 Star Inverter Fully Automatic Top ...   \n",
              "9                           BATA NAVY SNEAKER FOR MEN   \n",
              "10  OnePlus 9 Pro (Pine Green 12GB RAM 256GB Storage)   \n",
              "11  A80J | BRAVIA XR | OLED | 4K Ultra HD | High D...   \n",
              "12                        Galaxy Tab S8 Ultra (Wi-Fi)   \n",
              "13                  Service Unavailable - DNS failure   \n",
              "14  Croma In-Ear Wireless Earphone with Mic (Bluet...   \n",
              "15    ARROW Men Tan Round Toe Wellington Formal Shoes   \n",
              "16                   Stanhope Upholstered Storage Bed   \n",
              "17                                      Redmi Note 11   \n",
              "18                                    realme narzo-10   \n",
              "19                                     Gionee G13 Pro   \n",
              "20              Realme Laptop-i3 8GB 256GB (RMNB1001)   \n",
              "21  KD-43X80J IN5 - 43INCH 4K ULTRA HD (HDR) SMART...   \n",
              "22  Samsung S22 5G 128 GB, 8 GB RAM, Green, Mobile...   \n",
              "23  Canon EOS 1500D 24.1 Digital SLR Camera (Black...   \n",
              "24  BB Royal Sona Masoori Raw Rice/Akki, 25 kg (12...   \n",
              "25                               Selsun Shampoo 120ml   \n",
              "26               KIDDOS BPA FREE FEEDING BOTTLE 150ML   \n",
              "27        Stainless Steel Utensils For Online Selling   \n",
              "28  Vinod Stainless Steel Hot Tiffin Leak Proof, 4...   \n",
              "29                   Checked Shirt with Spread Collar   \n",
              "\n",
              "                                       name_dimension  \\\n",
              "0     {'x': 0, 'y': 2075, 'height': 62, 'width': 785}   \n",
              "1   {'x': 124, 'y': 1005, 'height': 40, 'width': 537}   \n",
              "2      {'x': 40, 'y': 70, 'height': 24, 'width': 360}   \n",
              "3    {'x': 283, 'y': 339, 'height': 94, 'width': 218}   \n",
              "4    {'x': 418, 'y': 423, 'height': 34, 'width': 358}   \n",
              "5    {'x': 305, 'y': 165, 'height': 30, 'width': 344}   \n",
              "6     {'x': 30, 'y': 783, 'height': 20, 'width': 735}   \n",
              "7     {'x': 20, 'y': 662, 'height': 19, 'width': 467}   \n",
              "8    {'x': 452, 'y': 278, 'height': 84, 'width': 303}   \n",
              "9    {'x': 432, 'y': 297, 'height': 60, 'width': 338}   \n",
              "10   {'x': 348, 'y': 221, 'height': 56, 'width': 390}   \n",
              "11  {'x': 175, 'y': 1000, 'height': 44, 'width': 321}   \n",
              "12      {'x': 0, 'y': 56, 'height': 49, 'width': 343}   \n",
              "13       {'x': 8, 'y': 8, 'height': 37, 'width': 784}   \n",
              "14    {'x': 15, 'y': 676, 'height': 37, 'width': 755}   \n",
              "15    {'x': 31, 'y': 751, 'height': 25, 'width': 701}   \n",
              "16   {'x': 238, 'y': 228, 'height': 64, 'width': 495}   \n",
              "17     {'x': 0, 'y': 199, 'height': 60, 'width': 146}   \n",
              "18        {'x': 0, 'y': 177, 'height': 1, 'width': 1}   \n",
              "19     {'x': 0, 'y': 110, 'height': 41, 'width': 696}   \n",
              "20   {'x': 348, 'y': 221, 'height': 56, 'width': 390}   \n",
              "21  {'x': 345, 'y': 358, 'height': 125, 'width': 410}   \n",
              "22   {'x': 342, 'y': 223, 'height': 43, 'width': 443}   \n",
              "23  {'x': 521, 'y': 247, 'height': 184, 'width': 224}   \n",
              "24   {'x': 476, 'y': 241, 'height': 50, 'width': 318}   \n",
              "25   {'x': 305, 'y': 165, 'height': 30, 'width': 180}   \n",
              "26   {'x': 310, 'y': 311, 'height': 44, 'width': 263}   \n",
              "27   {'x': 482, 'y': 108, 'height': 24, 'width': 503}   \n",
              "28   {'x': 23, 'y': 1040, 'height': 51, 'width': 739}   \n",
              "29   {'x': 797, 'y': 160, 'height': 23, 'width': 403}   \n",
              "\n",
              "                                      body_dimension  \n",
              "0     {'x': 0, 'y': 0, 'height': 9948, 'width': 785}  \n",
              "1     {'x': 0, 'y': 0, 'height': 5076, 'width': 785}  \n",
              "2    {'x': 0, 'y': 0, 'height': 22044, 'width': 800}  \n",
              "3     {'x': 0, 'y': 0, 'height': 7820, 'width': 785}  \n",
              "4     {'x': 0, 'y': 0, 'height': 5322, 'width': 785}  \n",
              "5     {'x': 0, 'y': 0, 'height': 4221, 'width': 785}  \n",
              "6     {'x': 0, 'y': 0, 'height': 2255, 'width': 795}  \n",
              "7     {'x': 0, 'y': 0, 'height': 5226, 'width': 795}  \n",
              "8     {'x': 0, 'y': 0, 'height': 9488, 'width': 785}  \n",
              "9     {'x': 0, 'y': 0, 'height': 2668, 'width': 785}  \n",
              "10     {'x': 0, 'y': 0, 'height': 600, 'width': 785}  \n",
              "11   {'x': 0, 'y': 0, 'height': 22432, 'width': 785}  \n",
              "12   {'x': 0, 'y': 0, 'height': 29340, 'width': 785}  \n",
              "13     {'x': 8, 'y': 8, 'height': 576, 'width': 784}  \n",
              "14    {'x': 0, 'y': 0, 'height': 3047, 'width': 785}  \n",
              "15     {'x': 0, 'y': 0, 'height': 600, 'width': 785}  \n",
              "16     {'x': 0, 'y': 0, 'height': 585, 'width': 785}  \n",
              "17     {'x': 0, 'y': 0, 'height': 585, 'width': 785}  \n",
              "18   {'x': 0, 'y': 0, 'height': 16233, 'width': 785}  \n",
              "19     {'x': 0, 'y': 0, 'height': 585, 'width': 785}  \n",
              "20     {'x': 0, 'y': 0, 'height': 600, 'width': 785}  \n",
              "21    {'x': 0, 'y': 0, 'height': 3195, 'width': 785}  \n",
              "22     {'x': 0, 'y': 0, 'height': 600, 'width': 785}  \n",
              "23    {'x': 0, 'y': 0, 'height': 7166, 'width': 785}  \n",
              "24    {'x': 0, 'y': 0, 'height': 2542, 'width': 794}  \n",
              "25    {'x': 0, 'y': 0, 'height': 6350, 'width': 785}  \n",
              "26    {'x': 0, 'y': 0, 'height': 6305, 'width': 790}  \n",
              "27    {'x': 0, 'y': 0, 'height': 1200, 'width': 785}  \n",
              "28    {'x': 0, 'y': 0, 'height': 3746, 'width': 785}  \n",
              "29  {'x': 0, 'y': 100, 'height': 2206, 'width': 785}  "
            ],
            "text/html": [
              "\n",
              "  <div id=\"df-ba4a4ece-d3a2-4373-a0ae-a122ecd9e060\">\n",
              "    <div class=\"colab-df-container\">\n",
              "      <div>\n",
              "<style scoped>\n",
              "    .dataframe tbody tr th:only-of-type {\n",
              "        vertical-align: middle;\n",
              "    }\n",
              "\n",
              "    .dataframe tbody tr th {\n",
              "        vertical-align: top;\n",
              "    }\n",
              "\n",
              "    .dataframe thead th {\n",
              "        text-align: right;\n",
              "    }\n",
              "</style>\n",
              "<table border=\"1\" class=\"dataframe\">\n",
              "  <thead>\n",
              "    <tr style=\"text-align: right;\">\n",
              "      <th></th>\n",
              "      <th>Unnamed: 0</th>\n",
              "      <th>product_link</th>\n",
              "      <th>product_name</th>\n",
              "      <th>name_dimension</th>\n",
              "      <th>body_dimension</th>\n",
              "    </tr>\n",
              "  </thead>\n",
              "  <tbody>\n",
              "    <tr>\n",
              "      <th>0</th>\n",
              "      <td>0</td>\n",
              "      <td>https://www.gonoise.com/products/noise-colorfi...</td>\n",
              "      <td>ColorFit Ultra 2</td>\n",
              "      <td>{'x': 0, 'y': 2075, 'height': 62, 'width': 785}</td>\n",
              "      <td>{'x': 0, 'y': 0, 'height': 9948, 'width': 785}</td>\n",
              "    </tr>\n",
              "    <tr>\n",
              "      <th>1</th>\n",
              "      <td>1</td>\n",
              "      <td>https://in.puma.com/in/en/pd/star-vital-mens-r...</td>\n",
              "      <td>Star Vital Men's Running Shoes</td>\n",
              "      <td>{'x': 124, 'y': 1005, 'height': 40, 'width': 537}</td>\n",
              "      <td>{'x': 0, 'y': 0, 'height': 5076, 'width': 785}</td>\n",
              "    </tr>\n",
              "    <tr>\n",
              "      <th>2</th>\n",
              "      <td>2</td>\n",
              "      <td>https://rog.asus.com/in/laptops/rog-strix/2021...</td>\n",
              "      <td>ROG Strix G17 G713</td>\n",
              "      <td>{'x': 40, 'y': 70, 'height': 24, 'width': 360}</td>\n",
              "      <td>{'x': 0, 'y': 0, 'height': 22044, 'width': 800}</td>\n",
              "    </tr>\n",
              "    <tr>\n",
              "      <th>3</th>\n",
              "      <td>3</td>\n",
              "      <td>https://www.1mg.com/otc/tata-1mg-immunity-well...</td>\n",
              "      <td>Tata 1mg Immunity &amp; Wellness Supplement Tablet</td>\n",
              "      <td>{'x': 283, 'y': 339, 'height': 94, 'width': 218}</td>\n",
              "      <td>{'x': 0, 'y': 0, 'height': 7820, 'width': 785}</td>\n",
              "    </tr>\n",
              "    <tr>\n",
              "      <th>4</th>\n",
              "      <td>4</td>\n",
              "      <td>https://himalayawellness.in/products/purifying...</td>\n",
              "      <td>Purifying Neem Face Wash</td>\n",
              "      <td>{'x': 418, 'y': 423, 'height': 34, 'width': 358}</td>\n",
              "      <td>{'x': 0, 'y': 0, 'height': 5322, 'width': 785}</td>\n",
              "    </tr>\n",
              "    <tr>\n",
              "      <th>5</th>\n",
              "      <td>5</td>\n",
              "      <td>https://pharmeasy.in/health-care/products/hi-l...</td>\n",
              "      <td>Hi Life Multi Layered Kn95 Mask- Single Pack</td>\n",
              "      <td>{'x': 305, 'y': 165, 'height': 30, 'width': 344}</td>\n",
              "      <td>{'x': 0, 'y': 0, 'height': 4221, 'width': 785}</td>\n",
              "    </tr>\n",
              "    <tr>\n",
              "      <th>6</th>\n",
              "      <td>6</td>\n",
              "      <td>https://www.woodlandworldwide.com/collections/...</td>\n",
              "      <td>THRILL SEEKERS CAMEL</td>\n",
              "      <td>{'x': 30, 'y': 783, 'height': 20, 'width': 735}</td>\n",
              "      <td>{'x': 0, 'y': 0, 'height': 2255, 'width': 795}</td>\n",
              "    </tr>\n",
              "    <tr>\n",
              "      <th>7</th>\n",
              "      <td>7</td>\n",
              "      <td>https://www.bajajfinservmarkets.in/emi-store/o...</td>\n",
              "      <td>Oppo F21 Pro 5G 128 GB Storage Rainbow Spectru...</td>\n",
              "      <td>{'x': 20, 'y': 662, 'height': 19, 'width': 467}</td>\n",
              "      <td>{'x': 0, 'y': 0, 'height': 5226, 'width': 795}</td>\n",
              "    </tr>\n",
              "    <tr>\n",
              "      <th>8</th>\n",
              "      <td>8</td>\n",
              "      <td>https://www.lg.com/in/washing-machines/lg-t65s...</td>\n",
              "      <td>LG 6.5 kg 5 Star Inverter Fully Automatic Top ...</td>\n",
              "      <td>{'x': 452, 'y': 278, 'height': 84, 'width': 303}</td>\n",
              "      <td>{'x': 0, 'y': 0, 'height': 9488, 'width': 785}</td>\n",
              "    </tr>\n",
              "    <tr>\n",
              "      <th>9</th>\n",
              "      <td>9</td>\n",
              "      <td>https://www.bata.in/bata-sneaker-for-men-500_0...</td>\n",
              "      <td>BATA NAVY SNEAKER FOR MEN</td>\n",
              "      <td>{'x': 432, 'y': 297, 'height': 60, 'width': 338}</td>\n",
              "      <td>{'x': 0, 'y': 0, 'height': 2668, 'width': 785}</td>\n",
              "    </tr>\n",
              "    <tr>\n",
              "      <th>10</th>\n",
              "      <td>10</td>\n",
              "      <td>https://www.sangeethamobiles.com/product-detai...</td>\n",
              "      <td>OnePlus 9 Pro (Pine Green 12GB RAM 256GB Storage)</td>\n",
              "      <td>{'x': 348, 'y': 221, 'height': 56, 'width': 390}</td>\n",
              "      <td>{'x': 0, 'y': 0, 'height': 600, 'width': 785}</td>\n",
              "    </tr>\n",
              "    <tr>\n",
              "      <th>11</th>\n",
              "      <td>11</td>\n",
              "      <td>https://www.sony.co.in/electronics/televisions...</td>\n",
              "      <td>A80J | BRAVIA XR | OLED | 4K Ultra HD | High D...</td>\n",
              "      <td>{'x': 175, 'y': 1000, 'height': 44, 'width': 321}</td>\n",
              "      <td>{'x': 0, 'y': 0, 'height': 22432, 'width': 785}</td>\n",
              "    </tr>\n",
              "    <tr>\n",
              "      <th>12</th>\n",
              "      <td>12</td>\n",
              "      <td>https://www.samsung.com/in/tablets/galaxy-tab-...</td>\n",
              "      <td>Galaxy Tab S8 Ultra (Wi-Fi)</td>\n",
              "      <td>{'x': 0, 'y': 56, 'height': 49, 'width': 343}</td>\n",
              "      <td>{'x': 0, 'y': 0, 'height': 29340, 'width': 785}</td>\n",
              "    </tr>\n",
              "    <tr>\n",
              "      <th>13</th>\n",
              "      <td>13</td>\n",
              "      <td>https://www.dell.com/en-in/work/shop/shop-all-...</td>\n",
              "      <td>Service Unavailable - DNS failure</td>\n",
              "      <td>{'x': 8, 'y': 8, 'height': 37, 'width': 784}</td>\n",
              "      <td>{'x': 8, 'y': 8, 'height': 576, 'width': 784}</td>\n",
              "    </tr>\n",
              "    <tr>\n",
              "      <th>14</th>\n",
              "      <td>14</td>\n",
              "      <td>https://www.croma.com/croma-in-ear-wireless-ea...</td>\n",
              "      <td>Croma In-Ear Wireless Earphone with Mic (Bluet...</td>\n",
              "      <td>{'x': 15, 'y': 676, 'height': 37, 'width': 755}</td>\n",
              "      <td>{'x': 0, 'y': 0, 'height': 3047, 'width': 785}</td>\n",
              "    </tr>\n",
              "    <tr>\n",
              "      <th>15</th>\n",
              "      <td>15</td>\n",
              "      <td>https://www.nnnow.com/arrow-men-tan-round-toe-...</td>\n",
              "      <td>ARROW Men Tan Round Toe Wellington Formal Shoes</td>\n",
              "      <td>{'x': 31, 'y': 751, 'height': 25, 'width': 701}</td>\n",
              "      <td>{'x': 0, 'y': 0, 'height': 600, 'width': 785}</td>\n",
              "    </tr>\n",
              "    <tr>\n",
              "      <th>16</th>\n",
              "      <td>16</td>\n",
              "      <td>https://www.urbanladder.com/products/stanhope-...</td>\n",
              "      <td>Stanhope Upholstered Storage Bed</td>\n",
              "      <td>{'x': 238, 'y': 228, 'height': 64, 'width': 495}</td>\n",
              "      <td>{'x': 0, 'y': 0, 'height': 585, 'width': 785}</td>\n",
              "    </tr>\n",
              "    <tr>\n",
              "      <th>17</th>\n",
              "      <td>17</td>\n",
              "      <td>https://www.mi.com/global/product/redmi-note-11/</td>\n",
              "      <td>Redmi Note 11</td>\n",
              "      <td>{'x': 0, 'y': 199, 'height': 60, 'width': 146}</td>\n",
              "      <td>{'x': 0, 'y': 0, 'height': 585, 'width': 785}</td>\n",
              "    </tr>\n",
              "    <tr>\n",
              "      <th>18</th>\n",
              "      <td>18</td>\n",
              "      <td>https://www.realme.com/in/realme-narzo-10</td>\n",
              "      <td>realme narzo-10</td>\n",
              "      <td>{'x': 0, 'y': 177, 'height': 1, 'width': 1}</td>\n",
              "      <td>{'x': 0, 'y': 0, 'height': 16233, 'width': 785}</td>\n",
              "    </tr>\n",
              "    <tr>\n",
              "      <th>19</th>\n",
              "      <td>19</td>\n",
              "      <td>https://www.smartprix.com/mobiles/gionee-g13-p...</td>\n",
              "      <td>Gionee G13 Pro</td>\n",
              "      <td>{'x': 0, 'y': 110, 'height': 41, 'width': 696}</td>\n",
              "      <td>{'x': 0, 'y': 0, 'height': 585, 'width': 785}</td>\n",
              "    </tr>\n",
              "    <tr>\n",
              "      <th>20</th>\n",
              "      <td>20</td>\n",
              "      <td>https://www.sangeethamobiles.com/product-detai...</td>\n",
              "      <td>Realme Laptop-i3 8GB 256GB (RMNB1001)</td>\n",
              "      <td>{'x': 348, 'y': 221, 'height': 56, 'width': 390}</td>\n",
              "      <td>{'x': 0, 'y': 0, 'height': 600, 'width': 785}</td>\n",
              "    </tr>\n",
              "    <tr>\n",
              "      <th>21</th>\n",
              "      <td>21</td>\n",
              "      <td>https://www.thechennaimobiles.com/led-entertai...</td>\n",
              "      <td>KD-43X80J IN5 - 43INCH 4K ULTRA HD (HDR) SMART...</td>\n",
              "      <td>{'x': 345, 'y': 358, 'height': 125, 'width': 410}</td>\n",
              "      <td>{'x': 0, 'y': 0, 'height': 3195, 'width': 785}</td>\n",
              "    </tr>\n",
              "    <tr>\n",
              "      <th>22</th>\n",
              "      <td>22</td>\n",
              "      <td>https://www.reliancedigital.in/samsung-s22-5g-...</td>\n",
              "      <td>Samsung S22 5G 128 GB, 8 GB RAM, Green, Mobile...</td>\n",
              "      <td>{'x': 342, 'y': 223, 'height': 43, 'width': 443}</td>\n",
              "      <td>{'x': 0, 'y': 0, 'height': 600, 'width': 785}</td>\n",
              "    </tr>\n",
              "    <tr>\n",
              "      <th>23</th>\n",
              "      <td>23</td>\n",
              "      <td>https://bh.homevo.in/products/canon-eos-1500d-...</td>\n",
              "      <td>Canon EOS 1500D 24.1 Digital SLR Camera (Black...</td>\n",
              "      <td>{'x': 521, 'y': 247, 'height': 184, 'width': 224}</td>\n",
              "      <td>{'x': 0, 'y': 0, 'height': 7166, 'width': 785}</td>\n",
              "    </tr>\n",
              "    <tr>\n",
              "      <th>24</th>\n",
              "      <td>24</td>\n",
              "      <td>https://www.bigbasket.com/pd/20001214/bb-royal...</td>\n",
              "      <td>BB Royal Sona Masoori Raw Rice/Akki, 25 kg (12...</td>\n",
              "      <td>{'x': 476, 'y': 241, 'height': 50, 'width': 318}</td>\n",
              "      <td>{'x': 0, 'y': 0, 'height': 2542, 'width': 794}</td>\n",
              "    </tr>\n",
              "    <tr>\n",
              "      <th>25</th>\n",
              "      <td>25</td>\n",
              "      <td>https://pharmeasy.in/health-care/products/sels...</td>\n",
              "      <td>Selsun Shampoo 120ml</td>\n",
              "      <td>{'x': 305, 'y': 165, 'height': 30, 'width': 180}</td>\n",
              "      <td>{'x': 0, 'y': 0, 'height': 6350, 'width': 785}</td>\n",
              "    </tr>\n",
              "    <tr>\n",
              "      <th>26</th>\n",
              "      <td>26</td>\n",
              "      <td>https://www.medplusmart.com/product/kiddos-bpa...</td>\n",
              "      <td>KIDDOS BPA FREE FEEDING BOTTLE 150ML</td>\n",
              "      <td>{'x': 310, 'y': 311, 'height': 44, 'width': 263}</td>\n",
              "      <td>{'x': 0, 'y': 0, 'height': 6305, 'width': 790}</td>\n",
              "    </tr>\n",
              "    <tr>\n",
              "      <th>27</th>\n",
              "      <td>27</td>\n",
              "      <td>https://www.indiamart.com/proddetail/stainless...</td>\n",
              "      <td>Stainless Steel Utensils For Online Selling</td>\n",
              "      <td>{'x': 482, 'y': 108, 'height': 24, 'width': 503}</td>\n",
              "      <td>{'x': 0, 'y': 0, 'height': 1200, 'width': 785}</td>\n",
              "    </tr>\n",
              "    <tr>\n",
              "      <th>28</th>\n",
              "      <td>28</td>\n",
              "      <td>https://www.vinodsteel.com/tiffins/vinod-stain...</td>\n",
              "      <td>Vinod Stainless Steel Hot Tiffin Leak Proof, 4...</td>\n",
              "      <td>{'x': 23, 'y': 1040, 'height': 51, 'width': 739}</td>\n",
              "      <td>{'x': 0, 'y': 0, 'height': 3746, 'width': 785}</td>\n",
              "    </tr>\n",
              "    <tr>\n",
              "      <th>29</th>\n",
              "      <td>29</td>\n",
              "      <td>https://www.ajio.com/koton-checked-shirt-with-...</td>\n",
              "      <td>Checked Shirt with Spread Collar</td>\n",
              "      <td>{'x': 797, 'y': 160, 'height': 23, 'width': 403}</td>\n",
              "      <td>{'x': 0, 'y': 100, 'height': 2206, 'width': 785}</td>\n",
              "    </tr>\n",
              "  </tbody>\n",
              "</table>\n",
              "</div>\n",
              "      <button class=\"colab-df-convert\" onclick=\"convertToInteractive('df-ba4a4ece-d3a2-4373-a0ae-a122ecd9e060')\"\n",
              "              title=\"Convert this dataframe to an interactive table.\"\n",
              "              style=\"display:none;\">\n",
              "        \n",
              "  <svg xmlns=\"http://www.w3.org/2000/svg\" height=\"24px\"viewBox=\"0 0 24 24\"\n",
              "       width=\"24px\">\n",
              "    <path d=\"M0 0h24v24H0V0z\" fill=\"none\"/>\n",
              "    <path d=\"M18.56 5.44l.94 2.06.94-2.06 2.06-.94-2.06-.94-.94-2.06-.94 2.06-2.06.94zm-11 1L8.5 8.5l.94-2.06 2.06-.94-2.06-.94L8.5 2.5l-.94 2.06-2.06.94zm10 10l.94 2.06.94-2.06 2.06-.94-2.06-.94-.94-2.06-.94 2.06-2.06.94z\"/><path d=\"M17.41 7.96l-1.37-1.37c-.4-.4-.92-.59-1.43-.59-.52 0-1.04.2-1.43.59L10.3 9.45l-7.72 7.72c-.78.78-.78 2.05 0 2.83L4 21.41c.39.39.9.59 1.41.59.51 0 1.02-.2 1.41-.59l7.78-7.78 2.81-2.81c.8-.78.8-2.07 0-2.86zM5.41 20L4 18.59l7.72-7.72 1.47 1.35L5.41 20z\"/>\n",
              "  </svg>\n",
              "      </button>\n",
              "      \n",
              "  <style>\n",
              "    .colab-df-container {\n",
              "      display:flex;\n",
              "      flex-wrap:wrap;\n",
              "      gap: 12px;\n",
              "    }\n",
              "\n",
              "    .colab-df-convert {\n",
              "      background-color: #E8F0FE;\n",
              "      border: none;\n",
              "      border-radius: 50%;\n",
              "      cursor: pointer;\n",
              "      display: none;\n",
              "      fill: #1967D2;\n",
              "      height: 32px;\n",
              "      padding: 0 0 0 0;\n",
              "      width: 32px;\n",
              "    }\n",
              "\n",
              "    .colab-df-convert:hover {\n",
              "      background-color: #E2EBFA;\n",
              "      box-shadow: 0px 1px 2px rgba(60, 64, 67, 0.3), 0px 1px 3px 1px rgba(60, 64, 67, 0.15);\n",
              "      fill: #174EA6;\n",
              "    }\n",
              "\n",
              "    [theme=dark] .colab-df-convert {\n",
              "      background-color: #3B4455;\n",
              "      fill: #D2E3FC;\n",
              "    }\n",
              "\n",
              "    [theme=dark] .colab-df-convert:hover {\n",
              "      background-color: #434B5C;\n",
              "      box-shadow: 0px 1px 3px 1px rgba(0, 0, 0, 0.15);\n",
              "      filter: drop-shadow(0px 1px 2px rgba(0, 0, 0, 0.3));\n",
              "      fill: #FFFFFF;\n",
              "    }\n",
              "  </style>\n",
              "\n",
              "      <script>\n",
              "        const buttonEl =\n",
              "          document.querySelector('#df-ba4a4ece-d3a2-4373-a0ae-a122ecd9e060 button.colab-df-convert');\n",
              "        buttonEl.style.display =\n",
              "          google.colab.kernel.accessAllowed ? 'block' : 'none';\n",
              "\n",
              "        async function convertToInteractive(key) {\n",
              "          const element = document.querySelector('#df-ba4a4ece-d3a2-4373-a0ae-a122ecd9e060');\n",
              "          const dataTable =\n",
              "            await google.colab.kernel.invokeFunction('convertToInteractive',\n",
              "                                                     [key], {});\n",
              "          if (!dataTable) return;\n",
              "\n",
              "          const docLinkHtml = 'Like what you see? Visit the ' +\n",
              "            '<a target=\"_blank\" href=https://colab.research.google.com/notebooks/data_table.ipynb>data table notebook</a>'\n",
              "            + ' to learn more about interactive tables.';\n",
              "          element.innerHTML = '';\n",
              "          dataTable['output_type'] = 'display_data';\n",
              "          await google.colab.output.renderOutput(dataTable, element);\n",
              "          const docLink = document.createElement('div');\n",
              "          docLink.innerHTML = docLinkHtml;\n",
              "          element.appendChild(docLink);\n",
              "        }\n",
              "      </script>\n",
              "    </div>\n",
              "  </div>\n",
              "  "
            ]
          },
          "metadata": {},
          "execution_count": 13
        }
      ]
    },
    {
      "cell_type": "code",
      "source": [
        "ups = Unified_Parsing_Script()"
      ],
      "metadata": {
        "id": "3J9tgh5Yu1Bg"
      },
      "execution_count": null,
      "outputs": []
    },
    {
      "cell_type": "code",
      "source": [
        "ups.train_position_based_model(df)"
      ],
      "metadata": {
        "colab": {
          "base_uri": "https://localhost:8080/"
        },
        "id": "7Zd1hDsJu5QO",
        "outputId": "b7c72c62-552a-4598-b5e2-85dc1d592fbc"
      },
      "execution_count": null,
      "outputs": [
        {
          "output_type": "stream",
          "name": "stdout",
          "text": [
            "<-- Training of the position based model has completed -->\n"
          ]
        }
      ]
    },
    {
      "cell_type": "code",
      "source": [
        "ups.visualize_frame(1000)"
      ],
      "metadata": {
        "colab": {
          "base_uri": "https://localhost:8080/",
          "height": 466
        },
        "id": "B9Uqzt7KvxRv",
        "outputId": "48d5f98e-644d-4976-97fd-f3176a516385"
      },
      "execution_count": null,
      "outputs": [
        {
          "output_type": "display_data",
          "data": {
            "text/plain": [
              "<Figure size 360x576 with 2 Axes>"
            ],
            "image/png": "[encoded data removed]"
          },
          "metadata": {
            "needs_background": "light"
          }
        }
      ]
    },
    {
      "cell_type": "markdown",
      "source": [
        "## TRAINING FOR SAMPLE DATASET - TAG BASED"
      ],
      "metadata": {
        "id": "5bk8zQz_WGu1"
      }
    },
    {
      "cell_type": "code",
      "source": [
        "ups.train_tag_based_model(df)"
      ],
      "metadata": {
        "id": "IC1bMBsnWORf"
      },
      "execution_count": null,
      "outputs": []
    },
    {
      "cell_type": "code",
      "source": [
        "ups.tags"
      ],
      "metadata": {
        "colab": {
          "base_uri": "https://localhost:8080/"
        },
        "id": "beLB5JgogJ5R",
        "outputId": "aa869000-8a1c-483c-8c42-b41ccab157df"
      },
      "execution_count": null,
      "outputs": [
        {
          "output_type": "execute_result",
          "data": {
            "text/plain": [
              "{'a': 8,\n",
              " 'dd': 1,\n",
              " 'div': 11,\n",
              " 'h1': 27,\n",
              " 'h5': 1,\n",
              " 'li': 6,\n",
              " 'p': 1,\n",
              " 'span': 7,\n",
              " 'strong': 2}"
            ]
          },
          "metadata": {},
          "execution_count": 11
        }
      ]
    },
    {
      "cell_type": "markdown",
      "source": [
        "## TRAINING FOR SAMPLE DATASET - DIMENSION BASED"
      ],
      "metadata": {
        "id": "xpiG3pm3t2YX"
      }
    },
    {
      "cell_type": "code",
      "source": [
        "def validate(link, product_name):\n",
        "  all_elements = ups.fetch_all_elements(link)\n",
        "  total = len(all_elements)\n",
        "  filtered_elements = list(filter(ups.filterer, all_elements))\n",
        "  filtered = len(filtered_elements)\n",
        "  removed = total - filtered\n",
        "  found = False\n",
        "  for ele in filtered_elements:\n",
        "    if ele.text == product_name:\n",
        "      found = True\n",
        "  return [total,filtered,removed,found]"
      ],
      "metadata": {
        "id": "2YFNN6IN3ep0"
      },
      "execution_count": null,
      "outputs": []
    },
    {
      "cell_type": "code",
      "source": [
        "validation_results = []\n",
        "for i in range(1):\n",
        "  validation_results.append(validate(df.iloc[i]['product_link'], df.iloc[i]['product_name']))\n",
        "\n",
        "validation_df = pd.DataFrame(validation_results, columns=['Total elements', 'Elements Filtered', 'Elements Removed', 'Product name found'])"
      ],
      "metadata": {
        "id": "66dVKN1a3rp2"
      },
      "execution_count": null,
      "outputs": []
    },
    {
      "cell_type": "code",
      "source": [
        "validation_df"
      ],
      "metadata": {
        "colab": {
          "base_uri": "https://localhost:8080/",
          "height": 426
        },
        "id": "O115vk9u32FC",
        "outputId": "f0e9491a-962a-4a59-bff1-551134ccdea7"
      },
      "execution_count": null,
      "outputs": [
        {
          "output_type": "execute_result",
          "data": {
            "text/plain": [
              "    Unnamed: 0  Total_elements  Elements_filtered  Elements_removed  \\\n",
              "0            0            4677               4409               268   \n",
              "1            1            1699               1342               357   \n",
              "2            2            2652               2552               100   \n",
              "3            3            2359               2226               133   \n",
              "4            4             962                861               101   \n",
              "5            5             914                862                52   \n",
              "6            6            6467               6133               334   \n",
              "7            7            3393               3146               247   \n",
              "8            8            2281               2054               227   \n",
              "9            9            1911               1723               188   \n",
              "10          10            2316               1971               345   \n",
              "11          11            6721               6207               514   \n",
              "\n",
              "    Product_name_found  \n",
              "0                 True  \n",
              "1                 True  \n",
              "2                 True  \n",
              "3                 True  \n",
              "4                 True  \n",
              "5                 True  \n",
              "6                 True  \n",
              "7                 True  \n",
              "8                 True  \n",
              "9                 True  \n",
              "10                True  \n",
              "11                True  "
            ],
            "text/html": [
              "\n",
              "  <div id=\"df-4957df6f-bdac-4e37-8a53-481a5091958b\">\n",
              "    <div class=\"colab-df-container\">\n",
              "      <div>\n",
              "<style scoped>\n",
              "    .dataframe tbody tr th:only-of-type {\n",
              "        vertical-align: middle;\n",
              "    }\n",
              "\n",
              "    .dataframe tbody tr th {\n",
              "        vertical-align: top;\n",
              "    }\n",
              "\n",
              "    .dataframe thead th {\n",
              "        text-align: right;\n",
              "    }\n",
              "</style>\n",
              "<table border=\"1\" class=\"dataframe\">\n",
              "  <thead>\n",
              "    <tr style=\"text-align: right;\">\n",
              "      <th></th>\n",
              "      <th>Unnamed: 0</th>\n",
              "      <th>Total_elements</th>\n",
              "      <th>Elements_filtered</th>\n",
              "      <th>Elements_removed</th>\n",
              "      <th>Product_name_found</th>\n",
              "    </tr>\n",
              "  </thead>\n",
              "  <tbody>\n",
              "    <tr>\n",
              "      <th>0</th>\n",
              "      <td>0</td>\n",
              "      <td>4677</td>\n",
              "      <td>4409</td>\n",
              "      <td>268</td>\n",
              "      <td>True</td>\n",
              "    </tr>\n",
              "    <tr>\n",
              "      <th>1</th>\n",
              "      <td>1</td>\n",
              "      <td>1699</td>\n",
              "      <td>1342</td>\n",
              "      <td>357</td>\n",
              "      <td>True</td>\n",
              "    </tr>\n",
              "    <tr>\n",
              "      <th>2</th>\n",
              "      <td>2</td>\n",
              "      <td>2652</td>\n",
              "      <td>2552</td>\n",
              "      <td>100</td>\n",
              "      <td>True</td>\n",
              "    </tr>\n",
              "    <tr>\n",
              "      <th>3</th>\n",
              "      <td>3</td>\n",
              "      <td>2359</td>\n",
              "      <td>2226</td>\n",
              "      <td>133</td>\n",
              "      <td>True</td>\n",
              "    </tr>\n",
              "    <tr>\n",
              "      <th>4</th>\n",
              "      <td>4</td>\n",
              "      <td>962</td>\n",
              "      <td>861</td>\n",
              "      <td>101</td>\n",
              "      <td>True</td>\n",
              "    </tr>\n",
              "    <tr>\n",
              "      <th>5</th>\n",
              "      <td>5</td>\n",
              "      <td>914</td>\n",
              "      <td>862</td>\n",
              "      <td>52</td>\n",
              "      <td>True</td>\n",
              "    </tr>\n",
              "    <tr>\n",
              "      <th>6</th>\n",
              "      <td>6</td>\n",
              "      <td>6467</td>\n",
              "      <td>6133</td>\n",
              "      <td>334</td>\n",
              "      <td>True</td>\n",
              "    </tr>\n",
              "    <tr>\n",
              "      <th>7</th>\n",
              "      <td>7</td>\n",
              "      <td>3393</td>\n",
              "      <td>3146</td>\n",
              "      <td>247</td>\n",
              "      <td>True</td>\n",
              "    </tr>\n",
              "    <tr>\n",
              "      <th>8</th>\n",
              "      <td>8</td>\n",
              "      <td>2281</td>\n",
              "      <td>2054</td>\n",
              "      <td>227</td>\n",
              "      <td>True</td>\n",
              "    </tr>\n",
              "    <tr>\n",
              "      <th>9</th>\n",
              "      <td>9</td>\n",
              "      <td>1911</td>\n",
              "      <td>1723</td>\n",
              "      <td>188</td>\n",
              "      <td>True</td>\n",
              "    </tr>\n",
              "    <tr>\n",
              "      <th>10</th>\n",
              "      <td>10</td>\n",
              "      <td>2316</td>\n",
              "      <td>1971</td>\n",
              "      <td>345</td>\n",
              "      <td>True</td>\n",
              "    </tr>\n",
              "    <tr>\n",
              "      <th>11</th>\n",
              "      <td>11</td>\n",
              "      <td>6721</td>\n",
              "      <td>6207</td>\n",
              "      <td>514</td>\n",
              "      <td>True</td>\n",
              "    </tr>\n",
              "  </tbody>\n",
              "</table>\n",
              "</div>\n",
              "      <button class=\"colab-df-convert\" onclick=\"convertToInteractive('df-4957df6f-bdac-4e37-8a53-481a5091958b')\"\n",
              "              title=\"Convert this dataframe to an interactive table.\"\n",
              "              style=\"display:none;\">\n",
              "        \n",
              "  <svg xmlns=\"http://www.w3.org/2000/svg\" height=\"24px\"viewBox=\"0 0 24 24\"\n",
              "       width=\"24px\">\n",
              "    <path d=\"M0 0h24v24H0V0z\" fill=\"none\"/>\n",
              "    <path d=\"M18.56 5.44l.94 2.06.94-2.06 2.06-.94-2.06-.94-.94-2.06-.94 2.06-2.06.94zm-11 1L8.5 8.5l.94-2.06 2.06-.94-2.06-.94L8.5 2.5l-.94 2.06-2.06.94zm10 10l.94 2.06.94-2.06 2.06-.94-2.06-.94-.94-2.06-.94 2.06-2.06.94z\"/><path d=\"M17.41 7.96l-1.37-1.37c-.4-.4-.92-.59-1.43-.59-.52 0-1.04.2-1.43.59L10.3 9.45l-7.72 7.72c-.78.78-.78 2.05 0 2.83L4 21.41c.39.39.9.59 1.41.59.51 0 1.02-.2 1.41-.59l7.78-7.78 2.81-2.81c.8-.78.8-2.07 0-2.86zM5.41 20L4 18.59l7.72-7.72 1.47 1.35L5.41 20z\"/>\n",
              "  </svg>\n",
              "      </button>\n",
              "      \n",
              "  <style>\n",
              "    .colab-df-container {\n",
              "      display:flex;\n",
              "      flex-wrap:wrap;\n",
              "      gap: 12px;\n",
              "    }\n",
              "\n",
              "    .colab-df-convert {\n",
              "      background-color: #E8F0FE;\n",
              "      border: none;\n",
              "      border-radius: 50%;\n",
              "      cursor: pointer;\n",
              "      display: none;\n",
              "      fill: #1967D2;\n",
              "      height: 32px;\n",
              "      padding: 0 0 0 0;\n",
              "      width: 32px;\n",
              "    }\n",
              "\n",
              "    .colab-df-convert:hover {\n",
              "      background-color: #E2EBFA;\n",
              "      box-shadow: 0px 1px 2px rgba(60, 64, 67, 0.3), 0px 1px 3px 1px rgba(60, 64, 67, 0.15);\n",
              "      fill: #174EA6;\n",
              "    }\n",
              "\n",
              "    [theme=dark] .colab-df-convert {\n",
              "      background-color: #3B4455;\n",
              "      fill: #D2E3FC;\n",
              "    }\n",
              "\n",
              "    [theme=dark] .colab-df-convert:hover {\n",
              "      background-color: #434B5C;\n",
              "      box-shadow: 0px 1px 3px 1px rgba(0, 0, 0, 0.15);\n",
              "      filter: drop-shadow(0px 1px 2px rgba(0, 0, 0, 0.3));\n",
              "      fill: #FFFFFF;\n",
              "    }\n",
              "  </style>\n",
              "\n",
              "      <script>\n",
              "        const buttonEl =\n",
              "          document.querySelector('#df-4957df6f-bdac-4e37-8a53-481a5091958b button.colab-df-convert');\n",
              "        buttonEl.style.display =\n",
              "          google.colab.kernel.accessAllowed ? 'block' : 'none';\n",
              "\n",
              "        async function convertToInteractive(key) {\n",
              "          const element = document.querySelector('#df-4957df6f-bdac-4e37-8a53-481a5091958b');\n",
              "          const dataTable =\n",
              "            await google.colab.kernel.invokeFunction('convertToInteractive',\n",
              "                                                     [key], {});\n",
              "          if (!dataTable) return;\n",
              "\n",
              "          const docLinkHtml = 'Like what you see? Visit the ' +\n",
              "            '<a target=\"_blank\" href=https://colab.research.google.com/notebooks/data_table.ipynb>data table notebook</a>'\n",
              "            + ' to learn more about interactive tables.';\n",
              "          element.innerHTML = '';\n",
              "          dataTable['output_type'] = 'display_data';\n",
              "          await google.colab.output.renderOutput(dataTable, element);\n",
              "          const docLink = document.createElement('div');\n",
              "          docLink.innerHTML = docLinkHtml;\n",
              "          element.appendChild(docLink);\n",
              "        }\n",
              "      </script>\n",
              "    </div>\n",
              "  </div>\n",
              "  "
            ]
          },
          "metadata": {},
          "execution_count": 62
        }
      ]
    },
    {
      "cell_type": "code",
      "source": [
        "ups.train_dimension_based_model(df)"
      ],
      "metadata": {
        "colab": {
          "base_uri": "https://localhost:8080/"
        },
        "id": "1QXUVVHWtysk",
        "outputId": "9c61f75d-4899-4d88-c08b-5014db1b3c4d"
      },
      "execution_count": null,
      "outputs": [
        {
          "output_type": "stream",
          "name": "stdout",
          "text": [
            "<-- Training of the dimension based model has completed -->\n"
          ]
        }
      ]
    },
    {
      "cell_type": "code",
      "source": [
        "ups.area"
      ],
      "metadata": {
        "colab": {
          "base_uri": "https://localhost:8080/"
        },
        "id": "y-6zVNLqv3l7",
        "outputId": "3d87f859-0c69-463f-f594-4822eb29883f"
      },
      "execution_count": null,
      "outputs": [
        {
          "output_type": "execute_result",
          "data": {
            "text/plain": [
              "{'mean': 20418.4, 'std': 12167.837478642894}"
            ]
          },
          "metadata": {},
          "execution_count": 148
        }
      ]
    },
    {
      "cell_type": "code",
      "source": [
        "ups.predict_dimension_based_model('https://www.realme.com/in/realme-narzo-10')"
      ],
      "metadata": {
        "colab": {
          "base_uri": "https://localhost:8080/"
        },
        "id": "lNfO8TXRv2lL",
        "outputId": "147e0fbb-21a3-4488-ed9e-a09b6ec01dc7"
      },
      "execution_count": null,
      "outputs": [
        {
          "output_type": "execute_result",
          "data": {
            "text/plain": [
              "[('Free shipping', 0.0017193947730398942),\n",
              " ('Secure payment', 0.0017193947730398942),\n",
              " ('Cash On Delivery', 0.0017193947730398942),\n",
              " ('© 2018-2022 realme. All Rights Reserved.', 0.0008463100880162502),\n",
              " ('realmeow\\n|\\nBrand\\n|\\nSupport\\n|\\nCommunity\\n|\\nApp\\n|\\nrealme Stores\\n|\\nBulk Order\\n|\\nUI 3.0',\n",
              "  0.0006975446428571435)]"
            ]
          },
          "metadata": {},
          "execution_count": 149
        }
      ]
    },
    {
      "cell_type": "markdown",
      "source": [
        "## TRAINING FOR SAMPLE DATASET - COMPLETE MODEL"
      ],
      "metadata": {
        "id": "r6oDlvzV1nlu"
      }
    },
    {
      "cell_type": "code",
      "source": [
        "ups.fit(df)"
      ],
      "metadata": {
        "id": "Nb9RT-iN1rQX",
        "outputId": "c8dca185-ba3c-4954-8067-c1f8727b54c5",
        "colab": {
          "base_uri": "https://localhost:8080/"
        }
      },
      "execution_count": null,
      "outputs": [
        {
          "output_type": "stream",
          "name": "stdout",
          "text": [
            "<-- Training of the dimension based model has completed -->\n",
            "<-- Training of the tag based model has completed -->\n",
            "<-- Training of the position based model has completed -->\n",
            "<-- Model fully trained -->\n"
          ]
        }
      ]
    },
    {
      "cell_type": "markdown",
      "source": [
        "### STORING TRAINED MODEL"
      ],
      "metadata": {
        "id": "aTmvGeW8Zx63"
      }
    },
    {
      "cell_type": "code",
      "source": [
        "with open('/content/drive/MyDrive/ML/UPS_Dataset/trained_model' , 'wb') as f:\n",
        "    pickle.dump(ups, f)"
      ],
      "metadata": {
        "id": "jXHdoMagZjT7"
      },
      "execution_count": null,
      "outputs": []
    },
    {
      "cell_type": "markdown",
      "source": [
        "### TESTING SAMPLES"
      ],
      "metadata": {
        "id": "CBrVzn4GZ5wa"
      }
    },
    {
      "cell_type": "code",
      "source": [
        "ups.predict('https://www.realme.com/in/realme-narzo-10', 5)"
      ],
      "metadata": {
        "id": "P2UX55b61zoF",
        "colab": {
          "base_uri": "https://localhost:8080/"
        },
        "outputId": "0414ad75-b479-495c-ba1d-0faee34d0517"
      },
      "execution_count": null,
      "outputs": [
        {
          "output_type": "execute_result",
          "data": {
            "text/plain": [
              "[('realme narzo-10', 0.028735632183908042),\n",
              " ('Download App to Grab realme Coins !', 0.012643678160922163),\n",
              " ('Open APP', 0.012643678160919219),\n",
              " ('Support', 0.012327586206896415),\n",
              " ('Download App to Grab realme Coins !\\nOpen APP', 0.011637931034479257)]"
            ]
          },
          "metadata": {},
          "execution_count": 10
        }
      ]
    },
    {
      "cell_type": "code",
      "source": [
        "ups.predict('https://www.nike.com/in/t/air-jordan-1-zoom-cmft-shoes-mDxHSk/CT0978-501')"
      ],
      "metadata": {
        "colab": {
          "base_uri": "https://localhost:8080/"
        },
        "id": "zkEBtL5qawzh",
        "outputId": "4074aa2d-d324-46b2-cc69-276723005641"
      },
      "execution_count": null,
      "outputs": [
        {
          "output_type": "execute_result",
          "data": {
            "text/plain": [
              "[('Air Jordan 1 Zoom Cmft', 0.0216190453083846),\n",
              " ('₹12,495\\nincl. of taxes and duties', 0.01797182113230398),\n",
              " ('₹12,495', 0.011827956989247304),\n",
              " ('We think you are in United States. Update your location?\\nIndia\\nUnited States',\n",
              "  0.009733422939064108),\n",
              " ('incl. of taxes and duties', 0.007967443249702118)]"
            ]
          },
          "metadata": {},
          "execution_count": 79
        }
      ]
    },
    {
      "cell_type": "code",
      "source": [
        "ups.predict('https://www.flipkart.com/puma-hustle-v2-running-shoes-men/p/itm7827dd756c4f3?pid=SHOG4JEY3UZHBYRB&lid=LSTSHOG4JEY3UZHBYRBWBEBS2&marketplace=FLIPKART&store=osp%2Fcil&srno=b_1_3&otracker=hp_omu_Today%2527s%2BFashion%2BDeals_3_7.dealCard.OMU_7R4CYLDO1WJ5_5&otracker1=hp_omu_PINNED_neo%2Fmerchandising_Today%2527s%2BFashion%2BDeals_NA_dealCard_cc_3_NA_view-all_5&fm=neo%2Fmerchandising&iid=ff23f704-9a3e-4df5-9721-82f312c067a6.SHOG4JEY3UZHBYRB.SEARCH&ppt=hp&ppn=homepage&ssid=9hb80reqzk0000001653209671134', n = 10)"
      ],
      "metadata": {
        "colab": {
          "base_uri": "https://localhost:8080/"
        },
        "id": "0FIGR73BrK8L",
        "outputId": "dc4ee1b7-bcf4-40fb-a3a9-b6cd1250e672"
      },
      "execution_count": null,
      "outputs": [
        {
          "output_type": "execute_result",
          "data": {
            "text/plain": [
              "[('₹3,999', 0.03440860215053703),\n",
              " ('61% off', 0.03440860215053687),\n",
              " ('₹1,529₹3,99961% off', 0.03235779903204046),\n",
              " ('₹1,529', 0.031324337494630136),\n",
              " ('4.235,029 ratings and 3,838 reviews', 0.029957330602497032),\n",
              " ('4.2', 0.025089905419498532),\n",
              " ('Available offers', 0.022724393333982122),\n",
              " ('PUMA \\nHustle V2 Running Shoes For Men  (Black)', 0.021410559399672353),\n",
              " ('35,029 ratings and 3,838 reviews', 0.019762452271960437),\n",
              " ('Footwear', 0.017741935483870836)]"
            ]
          },
          "metadata": {},
          "execution_count": 80
        }
      ]
    },
    {
      "cell_type": "markdown",
      "source": [
        "## TESTING THE TRAINED MODEL"
      ],
      "metadata": {
        "id": "wD9DGPUQ8ZR7"
      }
    },
    {
      "cell_type": "code",
      "source": [
        "test_df = pd.read_csv('/content/drive/MyDrive/ML/UPS_Dataset/test_ups.csv', index_col = False)\n",
        "test_df"
      ],
      "metadata": {
        "colab": {
          "base_uri": "https://localhost:8080/",
          "height": 870
        },
        "id": "l4aO-IuO7Td-",
        "outputId": "18e3d2eb-7ba0-49cd-dab4-823f7dd9ec75"
      },
      "execution_count": null,
      "outputs": [
        {
          "output_type": "execute_result",
          "data": {
            "text/plain": [
              "     Unnamed: 0  Unnamed: 0.1  \\\n",
              "0             0             0   \n",
              "1             1             1   \n",
              "2             2             2   \n",
              "3             3             3   \n",
              "4             4             4   \n",
              "..          ...           ...   \n",
              "890         495           495   \n",
              "891         496           496   \n",
              "892         497           497   \n",
              "893         498           498   \n",
              "894         499           499   \n",
              "\n",
              "                                          product_link  \\\n",
              "0    https://www.amazon.in/-/hi/American-Tourister-...   \n",
              "1    https://www.amazon.in/-/hi/product-reviews/B09...   \n",
              "2     https://www.amazon.in/-/hi/gp/bestsellers/garden   \n",
              "3    https://www.amazon.in/-/hi/HIT-%E0%A4%8F%E0%A4...   \n",
              "4    https://www.amazon.in/-/hi/product-reviews/B07...   \n",
              "..                                                 ...   \n",
              "890  https://www.snapdeal.com/product/bhakarwadi-gr...   \n",
              "891  https://www.snapdeal.com/product/bhakarwadi-pu...   \n",
              "892  https://www.snapdeal.com/product/sherine-orang...   \n",
              "893  https://www.snapdeal.com/product/night-blue-bl...   \n",
              "894  https://www.snapdeal.com/product/alexplum-oran...   \n",
              "\n",
              "                                          product_name  \\\n",
              "0                   American Tourister Casual Backpack   \n",
              "1    American Tourister Casual Backpack\\n›\\nग्राहको...   \n",
              "2          बाग-बगीचा और आउटडोर में सर्वाधिक बिकने वाले   \n",
              "3    HIT एंटी मॉस्क्विटो रैकेट - रिचार्जेबल इन्सेक्...   \n",
              "4    HIT एंटी मॉस्क्विटो रैकेट - रिचार्जेबल इन्सेक्...   \n",
              "..                                                 ...   \n",
              "890  Bhakarwadi - Multicolor Cotton Blend Saree Wit...   \n",
              "891  Bhakarwadi - Multicolor Cotton Blend Saree Wit...   \n",
              "892             Sherine Orange Cotton Straight Kurti -   \n",
              "893  NIGHT BLUE Black Cotton Linen Blend Saree - Si...   \n",
              "894  Alexplum Orange,White Georgette Saree - Pack of 2   \n",
              "\n",
              "                                        name_dimension  \\\n",
              "0     {'x': 480, 'y': 201, 'height': 64, 'width': 250}   \n",
              "1      {'x': 0, 'y': 107, 'height': 20, 'width': 1000}   \n",
              "2     {'x': 363, 'y': 323, 'height': 32, 'width': 617}   \n",
              "3    {'x': 514, 'y': 191, 'height': 192, 'width': 198}   \n",
              "4      {'x': 0, 'y': 107, 'height': 20, 'width': 1000}   \n",
              "..                                                 ...   \n",
              "890   {'x': 453, 'y': 158, 'height': 54, 'width': 393}   \n",
              "891   {'x': 453, 'y': 158, 'height': 54, 'width': 393}   \n",
              "892   {'x': 453, 'y': 158, 'height': 27, 'width': 393}   \n",
              "893   {'x': 453, 'y': 158, 'height': 54, 'width': 393}   \n",
              "894   {'x': 453, 'y': 158, 'height': 54, 'width': 393}   \n",
              "\n",
              "                                      body_dimension  \n",
              "0    {'x': 0, 'y': 0, 'height': 10342, 'width': 785}  \n",
              "1     {'x': 0, 'y': 0, 'height': 1813, 'width': 785}  \n",
              "2    {'x': 0, 'y': 0, 'height': 12468, 'width': 785}  \n",
              "3    {'x': 0, 'y': 0, 'height': 12056, 'width': 785}  \n",
              "4     {'x': 0, 'y': 0, 'height': 6083, 'width': 785}  \n",
              "..                                               ...  \n",
              "890  {'x': 0, 'y': 0, 'height': 6897, 'width': 1024}  \n",
              "891  {'x': 0, 'y': 0, 'height': 5822, 'width': 1024}  \n",
              "892  {'x': 0, 'y': 0, 'height': 5069, 'width': 1024}  \n",
              "893  {'x': 0, 'y': 0, 'height': 5842, 'width': 1024}  \n",
              "894  {'x': 0, 'y': 0, 'height': 5619, 'width': 1024}  \n",
              "\n",
              "[895 rows x 6 columns]"
            ],
            "text/html": [
              "\n",
              "  <div id=\"df-22512eaa-abad-42e0-97d6-1472904fd9e0\">\n",
              "    <div class=\"colab-df-container\">\n",
              "      <div>\n",
              "<style scoped>\n",
              "    .dataframe tbody tr th:only-of-type {\n",
              "        vertical-align: middle;\n",
              "    }\n",
              "\n",
              "    .dataframe tbody tr th {\n",
              "        vertical-align: top;\n",
              "    }\n",
              "\n",
              "    .dataframe thead th {\n",
              "        text-align: right;\n",
              "    }\n",
              "</style>\n",
              "<table border=\"1\" class=\"dataframe\">\n",
              "  <thead>\n",
              "    <tr style=\"text-align: right;\">\n",
              "      <th></th>\n",
              "      <th>Unnamed: 0</th>\n",
              "      <th>Unnamed: 0.1</th>\n",
              "      <th>product_link</th>\n",
              "      <th>product_name</th>\n",
              "      <th>name_dimension</th>\n",
              "      <th>body_dimension</th>\n",
              "    </tr>\n",
              "  </thead>\n",
              "  <tbody>\n",
              "    <tr>\n",
              "      <th>0</th>\n",
              "      <td>0</td>\n",
              "      <td>0</td>\n",
              "      <td>https://www.amazon.in/-/hi/American-Tourister-...</td>\n",
              "      <td>American Tourister Casual Backpack</td>\n",
              "      <td>{'x': 480, 'y': 201, 'height': 64, 'width': 250}</td>\n",
              "      <td>{'x': 0, 'y': 0, 'height': 10342, 'width': 785}</td>\n",
              "    </tr>\n",
              "    <tr>\n",
              "      <th>1</th>\n",
              "      <td>1</td>\n",
              "      <td>1</td>\n",
              "      <td>https://www.amazon.in/-/hi/product-reviews/B09...</td>\n",
              "      <td>American Tourister Casual Backpack\\n›\\nग्राहको...</td>\n",
              "      <td>{'x': 0, 'y': 107, 'height': 20, 'width': 1000}</td>\n",
              "      <td>{'x': 0, 'y': 0, 'height': 1813, 'width': 785}</td>\n",
              "    </tr>\n",
              "    <tr>\n",
              "      <th>2</th>\n",
              "      <td>2</td>\n",
              "      <td>2</td>\n",
              "      <td>https://www.amazon.in/-/hi/gp/bestsellers/garden</td>\n",
              "      <td>बाग-बगीचा और आउटडोर में सर्वाधिक बिकने वाले</td>\n",
              "      <td>{'x': 363, 'y': 323, 'height': 32, 'width': 617}</td>\n",
              "      <td>{'x': 0, 'y': 0, 'height': 12468, 'width': 785}</td>\n",
              "    </tr>\n",
              "    <tr>\n",
              "      <th>3</th>\n",
              "      <td>3</td>\n",
              "      <td>3</td>\n",
              "      <td>https://www.amazon.in/-/hi/HIT-%E0%A4%8F%E0%A4...</td>\n",
              "      <td>HIT एंटी मॉस्क्विटो रैकेट - रिचार्जेबल इन्सेक्...</td>\n",
              "      <td>{'x': 514, 'y': 191, 'height': 192, 'width': 198}</td>\n",
              "      <td>{'x': 0, 'y': 0, 'height': 12056, 'width': 785}</td>\n",
              "    </tr>\n",
              "    <tr>\n",
              "      <th>4</th>\n",
              "      <td>4</td>\n",
              "      <td>4</td>\n",
              "      <td>https://www.amazon.in/-/hi/product-reviews/B07...</td>\n",
              "      <td>HIT एंटी मॉस्क्विटो रैकेट - रिचार्जेबल इन्सेक्...</td>\n",
              "      <td>{'x': 0, 'y': 107, 'height': 20, 'width': 1000}</td>\n",
              "      <td>{'x': 0, 'y': 0, 'height': 6083, 'width': 785}</td>\n",
              "    </tr>\n",
              "    <tr>\n",
              "      <th>...</th>\n",
              "      <td>...</td>\n",
              "      <td>...</td>\n",
              "      <td>...</td>\n",
              "      <td>...</td>\n",
              "      <td>...</td>\n",
              "      <td>...</td>\n",
              "    </tr>\n",
              "    <tr>\n",
              "      <th>890</th>\n",
              "      <td>495</td>\n",
              "      <td>495</td>\n",
              "      <td>https://www.snapdeal.com/product/bhakarwadi-gr...</td>\n",
              "      <td>Bhakarwadi - Multicolor Cotton Blend Saree Wit...</td>\n",
              "      <td>{'x': 453, 'y': 158, 'height': 54, 'width': 393}</td>\n",
              "      <td>{'x': 0, 'y': 0, 'height': 6897, 'width': 1024}</td>\n",
              "    </tr>\n",
              "    <tr>\n",
              "      <th>891</th>\n",
              "      <td>496</td>\n",
              "      <td>496</td>\n",
              "      <td>https://www.snapdeal.com/product/bhakarwadi-pu...</td>\n",
              "      <td>Bhakarwadi - Multicolor Cotton Blend Saree Wit...</td>\n",
              "      <td>{'x': 453, 'y': 158, 'height': 54, 'width': 393}</td>\n",
              "      <td>{'x': 0, 'y': 0, 'height': 5822, 'width': 1024}</td>\n",
              "    </tr>\n",
              "    <tr>\n",
              "      <th>892</th>\n",
              "      <td>497</td>\n",
              "      <td>497</td>\n",
              "      <td>https://www.snapdeal.com/product/sherine-orang...</td>\n",
              "      <td>Sherine Orange Cotton Straight Kurti -</td>\n",
              "      <td>{'x': 453, 'y': 158, 'height': 27, 'width': 393}</td>\n",
              "      <td>{'x': 0, 'y': 0, 'height': 5069, 'width': 1024}</td>\n",
              "    </tr>\n",
              "    <tr>\n",
              "      <th>893</th>\n",
              "      <td>498</td>\n",
              "      <td>498</td>\n",
              "      <td>https://www.snapdeal.com/product/night-blue-bl...</td>\n",
              "      <td>NIGHT BLUE Black Cotton Linen Blend Saree - Si...</td>\n",
              "      <td>{'x': 453, 'y': 158, 'height': 54, 'width': 393}</td>\n",
              "      <td>{'x': 0, 'y': 0, 'height': 5842, 'width': 1024}</td>\n",
              "    </tr>\n",
              "    <tr>\n",
              "      <th>894</th>\n",
              "      <td>499</td>\n",
              "      <td>499</td>\n",
              "      <td>https://www.snapdeal.com/product/alexplum-oran...</td>\n",
              "      <td>Alexplum Orange,White Georgette Saree - Pack of 2</td>\n",
              "      <td>{'x': 453, 'y': 158, 'height': 54, 'width': 393}</td>\n",
              "      <td>{'x': 0, 'y': 0, 'height': 5619, 'width': 1024}</td>\n",
              "    </tr>\n",
              "  </tbody>\n",
              "</table>\n",
              "<p>895 rows × 6 columns</p>\n",
              "</div>\n",
              "      <button class=\"colab-df-convert\" onclick=\"convertToInteractive('df-22512eaa-abad-42e0-97d6-1472904fd9e0')\"\n",
              "              title=\"Convert this dataframe to an interactive table.\"\n",
              "              style=\"display:none;\">\n",
              "        \n",
              "  <svg xmlns=\"http://www.w3.org/2000/svg\" height=\"24px\"viewBox=\"0 0 24 24\"\n",
              "       width=\"24px\">\n",
              "    <path d=\"M0 0h24v24H0V0z\" fill=\"none\"/>\n",
              "    <path d=\"M18.56 5.44l.94 2.06.94-2.06 2.06-.94-2.06-.94-.94-2.06-.94 2.06-2.06.94zm-11 1L8.5 8.5l.94-2.06 2.06-.94-2.06-.94L8.5 2.5l-.94 2.06-2.06.94zm10 10l.94 2.06.94-2.06 2.06-.94-2.06-.94-.94-2.06-.94 2.06-2.06.94z\"/><path d=\"M17.41 7.96l-1.37-1.37c-.4-.4-.92-.59-1.43-.59-.52 0-1.04.2-1.43.59L10.3 9.45l-7.72 7.72c-.78.78-.78 2.05 0 2.83L4 21.41c.39.39.9.59 1.41.59.51 0 1.02-.2 1.41-.59l7.78-7.78 2.81-2.81c.8-.78.8-2.07 0-2.86zM5.41 20L4 18.59l7.72-7.72 1.47 1.35L5.41 20z\"/>\n",
              "  </svg>\n",
              "      </button>\n",
              "      \n",
              "  <style>\n",
              "    .colab-df-container {\n",
              "      display:flex;\n",
              "      flex-wrap:wrap;\n",
              "      gap: 12px;\n",
              "    }\n",
              "\n",
              "    .colab-df-convert {\n",
              "      background-color: #E8F0FE;\n",
              "      border: none;\n",
              "      border-radius: 50%;\n",
              "      cursor: pointer;\n",
              "      display: none;\n",
              "      fill: #1967D2;\n",
              "      height: 32px;\n",
              "      padding: 0 0 0 0;\n",
              "      width: 32px;\n",
              "    }\n",
              "\n",
              "    .colab-df-convert:hover {\n",
              "      background-color: #E2EBFA;\n",
              "      box-shadow: 0px 1px 2px rgba(60, 64, 67, 0.3), 0px 1px 3px 1px rgba(60, 64, 67, 0.15);\n",
              "      fill: #174EA6;\n",
              "    }\n",
              "\n",
              "    [theme=dark] .colab-df-convert {\n",
              "      background-color: #3B4455;\n",
              "      fill: #D2E3FC;\n",
              "    }\n",
              "\n",
              "    [theme=dark] .colab-df-convert:hover {\n",
              "      background-color: #434B5C;\n",
              "      box-shadow: 0px 1px 3px 1px rgba(0, 0, 0, 0.15);\n",
              "      filter: drop-shadow(0px 1px 2px rgba(0, 0, 0, 0.3));\n",
              "      fill: #FFFFFF;\n",
              "    }\n",
              "  </style>\n",
              "\n",
              "      <script>\n",
              "        const buttonEl =\n",
              "          document.querySelector('#df-22512eaa-abad-42e0-97d6-1472904fd9e0 button.colab-df-convert');\n",
              "        buttonEl.style.display =\n",
              "          google.colab.kernel.accessAllowed ? 'block' : 'none';\n",
              "\n",
              "        async function convertToInteractive(key) {\n",
              "          const element = document.querySelector('#df-22512eaa-abad-42e0-97d6-1472904fd9e0');\n",
              "          const dataTable =\n",
              "            await google.colab.kernel.invokeFunction('convertToInteractive',\n",
              "                                                     [key], {});\n",
              "          if (!dataTable) return;\n",
              "\n",
              "          const docLinkHtml = 'Like what you see? Visit the ' +\n",
              "            '<a target=\"_blank\" href=https://colab.research.google.com/notebooks/data_table.ipynb>data table notebook</a>'\n",
              "            + ' to learn more about interactive tables.';\n",
              "          element.innerHTML = '';\n",
              "          dataTable['output_type'] = 'display_data';\n",
              "          await google.colab.output.renderOutput(dataTable, element);\n",
              "          const docLink = document.createElement('div');\n",
              "          docLink.innerHTML = docLinkHtml;\n",
              "          element.appendChild(docLink);\n",
              "        }\n",
              "      </script>\n",
              "    </div>\n",
              "  </div>\n",
              "  "
            ]
          },
          "metadata": {},
          "execution_count": 5
        }
      ]
    },
    {
      "cell_type": "markdown",
      "source": [
        "### LOADING TRAINED MODEL"
      ],
      "metadata": {
        "id": "m74cmkZ7HG1H"
      }
    },
    {
      "cell_type": "code",
      "source": [
        "with open('/content/drive/MyDrive/ML/UPS_Dataset/trained_model' , 'rb') as f:\n",
        "    t_ups = pickle.load(f)"
      ],
      "metadata": {
        "id": "LsnLexK0HLam"
      },
      "execution_count": null,
      "outputs": []
    },
    {
      "cell_type": "code",
      "source": [
        "t_ups.visualize_frame(1000)"
      ],
      "metadata": {
        "colab": {
          "base_uri": "https://localhost:8080/",
          "height": 466
        },
        "id": "or9R3dk7H6uF",
        "outputId": "394635d1-145f-481d-cd29-834b2fe927a8"
      },
      "execution_count": null,
      "outputs": [
        {
          "output_type": "display_data",
          "data": {
            "text/plain": [
              "<Figure size 360x576 with 2 Axes>"
            ],
            "image/png": "[encoded data removed]"
          },
          "metadata": {
            "needs_background": "light"
          }
        }
      ]
    },
    {
      "cell_type": "code",
      "source": [
        "t_ups.predict('https://www.realme.com/in/realme-narzo-10')"
      ],
      "metadata": {
        "colab": {
          "base_uri": "https://localhost:8080/"
        },
        "id": "Of8JUT6vvo5R",
        "outputId": "081c36b5-0a20-4005-dce6-eaf680a62f65"
      },
      "execution_count": null,
      "outputs": [
        {
          "output_type": "execute_result",
          "data": {
            "text/plain": [
              "[('realme narzo-10', 0.028735632183908042),\n",
              " ('Download App to Grab realme Coins !', 0.012643678160922163),\n",
              " ('Open APP', 0.012643678160919219),\n",
              " ('Support', 0.012327586206896415),\n",
              " ('Download App to Grab realme Coins !\\nOpen APP', 0.011637931034479257)]"
            ]
          },
          "metadata": {},
          "execution_count": 13
        }
      ]
    },
    {
      "cell_type": "code",
      "source": [
        "results = t_ups.accuracy(df.sample(n = 1), 10)"
      ],
      "metadata": {
        "id": "3_CwRA2nKCv0"
      },
      "execution_count": null,
      "outputs": []
    },
    {
      "cell_type": "code",
      "source": [
        "results"
      ],
      "metadata": {
        "id": "T0tbgcI5Exht",
        "colab": {
          "base_uri": "https://localhost:8080/"
        },
        "outputId": "94162f69-6ecd-4355-eaba-eb2f6764a12a"
      },
      "execution_count": null,
      "outputs": [
        {
          "output_type": "execute_result",
          "data": {
            "text/plain": [
              "{'complete model': [100.0, 0.0, 0.0, 0.0, 0.0, 0.0, 0.0, 0.0, 0.0, 0.0],\n",
              " 'dimension based model': 100.0,\n",
              " 'position based model': [100.0, 0.0, 0.0, 0.0, 0.0, 0.0, 0.0, 0.0, 0.0, 0.0],\n",
              " 'tag based model': [100.0, 0.0, 0.0, 0.0, 0.0, 0.0, 0.0, 0.0, 0.0, 0.0]}"
            ]
          },
          "metadata": {},
          "execution_count": 14
        }
      ]
    },
    {
      "cell_type": "markdown",
      "source": [
        "#### TESTING"
      ],
      "metadata": {
        "id": "KObHbmDpAMzi"
      }
    },
    {
      "cell_type": "code",
      "source": [
        "for i in range(10):\n",
        "  r = t_ups.accuracy(test_df.sample(n = 10), 10)\n",
        "  with open('/content/drive/MyDrive/ML/UPS_Dataset/Accuracies/result' + str(i) , 'wb') as f:\n",
        "    pickle.dump(r, f)"
      ],
      "metadata": {
        "id": "ORuTosrDAP6w"
      },
      "execution_count": null,
      "outputs": []
    },
    {
      "cell_type": "code",
      "source": [
        "tag_results = [0 for _ in range(10)]\n",
        "pos_results = [0 for _ in range(10)]\n",
        "com_results = [0 for _ in range(10)]\n",
        "dim_results = 0"
      ],
      "metadata": {
        "id": "gjb8UM93hguh"
      },
      "execution_count": null,
      "outputs": []
    },
    {
      "cell_type": "code",
      "source": [
        "for i in range(10):\n",
        "  with open('/content/drive/MyDrive/ML/UPS_Dataset/Accuracies/result' + str(i) , 'rb') as f:\n",
        "    r = pickle.load(f)\n",
        "    for j in range(10):\n",
        "      tag_results[j] += (r['tag based model'][j] / 10)\n",
        "      pos_results[j] += (r['position based model'][j] / 10)\n",
        "      com_results[j] += (r['complete model'][j] / 10)\n",
        "    dim_results += (r['dimension based model'] / 10)\n",
        "\n",
        "for i in range(10):\n",
        "  tag_results[i] = tag_results[i] * 100 / 75\n",
        "  com_results[i] = com_results[i] * 100 / 75\n",
        "  pos_results[i] = pos_results[i] * 100 / 75\n",
        "\n",
        "dim_results = dim_results"
      ],
      "metadata": {
        "id": "O-lCUzoMhNn4"
      },
      "execution_count": null,
      "outputs": []
    },
    {
      "cell_type": "code",
      "source": [
        "tag_results"
      ],
      "metadata": {
        "colab": {
          "base_uri": "https://localhost:8080/"
        },
        "id": "aBvrM0LlsqI-",
        "outputId": "57373105-cf1a-4499-dad1-3225f4928636"
      },
      "execution_count": null,
      "outputs": [
        {
          "output_type": "execute_result",
          "data": {
            "text/plain": [
              "[100.0, 0.0, 0.0, 0.0, 0.0, 0.0, 0.0, 0.0, 0.0, 0.0]"
            ]
          },
          "metadata": {},
          "execution_count": 80
        }
      ]
    },
    {
      "cell_type": "code",
      "source": [
        "com_results"
      ],
      "metadata": {
        "colab": {
          "base_uri": "https://localhost:8080/"
        },
        "id": "bxKZUGIusxBm",
        "outputId": "5f8e5b72-d2ce-4331-f711-dd38b66f0ffb"
      },
      "execution_count": null,
      "outputs": [
        {
          "output_type": "execute_result",
          "data": {
            "text/plain": [
              "[62.666666666666664,\n",
              " 5.333333333333333,\n",
              " 25.333333333333332,\n",
              " 1.3333333333333333,\n",
              " 4.0,\n",
              " 1.3333333333333333,\n",
              " 0.0,\n",
              " 0.0,\n",
              " 0.0,\n",
              " 0.0]"
            ]
          },
          "metadata": {},
          "execution_count": 81
        }
      ]
    },
    {
      "cell_type": "code",
      "source": [
        "dim_results"
      ],
      "metadata": {
        "colab": {
          "base_uri": "https://localhost:8080/"
        },
        "id": "2wX-OPvpEUSL",
        "outputId": "da51c7bc-c363-4959-94fd-62574e92f803"
      },
      "execution_count": null,
      "outputs": [
        {
          "output_type": "execute_result",
          "data": {
            "text/plain": [
              "75.0"
            ]
          },
          "metadata": {},
          "execution_count": 82
        }
      ]
    },
    {
      "cell_type": "markdown",
      "source": [
        "#### TESTING"
      ],
      "metadata": {
        "id": "kfYeYIPAxac1"
      }
    },
    {
      "cell_type": "code",
      "source": [
        "t_df = pd.read_csv('/content/drive/MyDrive/ML/UPS_Dataset/test2_ups.csv', index_col = False)\n",
        "t_df"
      ],
      "metadata": {
        "colab": {
          "base_uri": "https://localhost:8080/",
          "height": 1000
        },
        "id": "grxAzYIDs-3i",
        "outputId": "79f47bef-250d-4893-ea2a-18ca94729f16"
      },
      "execution_count": null,
      "outputs": [
        {
          "output_type": "execute_result",
          "data": {
            "text/plain": [
              "     Unnamed: 0  Unnamed: 0.1  \\\n",
              "0             0             0   \n",
              "1             1             1   \n",
              "2             2             2   \n",
              "3             3             3   \n",
              "4             4             4   \n",
              "..          ...           ...   \n",
              "779         495           495   \n",
              "780         496           496   \n",
              "781         497           497   \n",
              "782         498           498   \n",
              "783         499           499   \n",
              "\n",
              "                                          product_link  \\\n",
              "0    https://www.croma.com/oppo-f19s-128gb-rom-6gb-...   \n",
              "1    https://www.croma.com/oppo-a96-128gb-rom-8gb-r...   \n",
              "2    https://www.croma.com/oppo-f21-pro-128gb-rom-8...   \n",
              "3    https://www.croma.com/oppo-f21-pro-128gb-rom-8...   \n",
              "4    https://www.croma.com/vivo-v23e-5g-128gb-rom-8...   \n",
              "..                                                 ...   \n",
              "779  https://www.snapdeal.com/product/bhakarwadi-gr...   \n",
              "780  https://www.snapdeal.com/product/bhakarwadi-pu...   \n",
              "781  https://www.snapdeal.com/product/sherine-orang...   \n",
              "782  https://www.snapdeal.com/product/night-blue-bl...   \n",
              "783  https://www.snapdeal.com/product/alexplum-oran...   \n",
              "\n",
              "                                          product_name final_price  \\\n",
              "0    Oppo F19s (128GB ROM, 6GB RAM, CPH2223, Glowin...  ₹19,990.00   \n",
              "1          Oppo A96 (128GB ROM, 8GB RAM, Starry Black)  ₹19,999.00   \n",
              "2    Oppo F21 Pro (128GB ROM, 8GB RAM, CPH2363, Sun...  ₹22,999.00   \n",
              "3    Oppo F21 Pro (128GB ROM, 8GB RAM, CPH2363, Cos...  ₹22,999.00   \n",
              "4    Vivo V23e 5G (128GB ROM, 8GB RAM, V2126, Midni...  ₹25,990.00   \n",
              "..                                                 ...         ...   \n",
              "779  Bhakarwadi - Multicolor Cotton Blend Saree Wit...     Rs. 649   \n",
              "780  Bhakarwadi - Multicolor Cotton Blend Saree Wit...     Rs. 359   \n",
              "781             Sherine Orange Cotton Straight Kurti -     Rs. 249   \n",
              "782  NIGHT BLUE Black Cotton Linen Blend Saree - Si...     Rs. 289   \n",
              "783  Alexplum Orange,White Georgette Saree - Pack of 2     Rs. 725   \n",
              "\n",
              "                                   product_description  \\\n",
              "0    Key Features\\n16.34 cm (6.43\"), FHD Plus\\n6GB ...   \n",
              "1    Key Features\\n16.73cm (6.59\"), FHD Plus Color ...   \n",
              "2    Key Features\\n6.43 cm (16.33\"), AMOLED Display...   \n",
              "3    Key Features\\n16.33cm (6.43\"), AMOLED Display\\...   \n",
              "4    Key Features\\n16.35cm (6.44”), AMOLED FHD+\\n8G...   \n",
              "..                                                 ...   \n",
              "779  Bhakarwadi\\nColor: Multicolor\\nFabric: Cotton ...   \n",
              "780  Bhakarwadi\\nColor: Multicolor\\nFabric: Cotton ...   \n",
              "781  Style:Straight\\nFabric:Cotton\\nProduct Length:...   \n",
              "782  Set Contents:With Blouse Piece\\nFabric:Cotton ...   \n",
              "783  Set Contents:With Blouse Piece\\nFabric:Georget...   \n",
              "\n",
              "                                       name_dimension  \\\n",
              "0     {'x': 15, 'y': 676, 'height': 19, 'width': 755}   \n",
              "1     {'x': 15, 'y': 676, 'height': 19, 'width': 755}   \n",
              "2     {'x': 15, 'y': 676, 'height': 19, 'width': 755}   \n",
              "3     {'x': 15, 'y': 676, 'height': 19, 'width': 755}   \n",
              "4     {'x': 15, 'y': 676, 'height': 19, 'width': 755}   \n",
              "..                                                ...   \n",
              "779  {'x': 453, 'y': 158, 'height': 54, 'width': 393}   \n",
              "780  {'x': 453, 'y': 158, 'height': 54, 'width': 393}   \n",
              "781  {'x': 453, 'y': 158, 'height': 27, 'width': 393}   \n",
              "782  {'x': 453, 'y': 158, 'height': 54, 'width': 393}   \n",
              "783  {'x': 453, 'y': 158, 'height': 54, 'width': 393}   \n",
              "\n",
              "                               final_price_dimension  \\\n",
              "0    {'x': 15, 'y': 783, 'height': 31, 'width': 141}   \n",
              "1    {'x': 15, 'y': 783, 'height': 31, 'width': 141}   \n",
              "2    {'x': 15, 'y': 783, 'height': 31, 'width': 145}   \n",
              "3    {'x': 15, 'y': 783, 'height': 31, 'width': 145}   \n",
              "4    {'x': 15, 'y': 783, 'height': 31, 'width': 146}   \n",
              "..                                               ...   \n",
              "779  {'x': 451, 'y': 286, 'height': 32, 'width': 80}   \n",
              "780  {'x': 451, 'y': 286, 'height': 32, 'width': 78}   \n",
              "781  {'x': 451, 'y': 259, 'height': 32, 'width': 79}   \n",
              "782  {'x': 451, 'y': 286, 'height': 32, 'width': 78}   \n",
              "783  {'x': 451, 'y': 286, 'height': 32, 'width': 76}   \n",
              "\n",
              "                          product_description_location  \\\n",
              "0     {'x': 15, 'y': 971, 'height': 208, 'width': 755}   \n",
              "1     {'x': 15, 'y': 986, 'height': 208, 'width': 755}   \n",
              "2     {'x': 15, 'y': 971, 'height': 208, 'width': 755}   \n",
              "3     {'x': 15, 'y': 971, 'height': 208, 'width': 755}   \n",
              "4     {'x': 15, 'y': 986, 'height': 208, 'width': 755}   \n",
              "..                                                 ...   \n",
              "779  {'x': 55, 'y': 1809, 'height': 383, 'width': 747}   \n",
              "780  {'x': 55, 'y': 1809, 'height': 405, 'width': 747}   \n",
              "781  {'x': 55, 'y': 1367, 'height': 295, 'width': 747}   \n",
              "782  {'x': 55, 'y': 1809, 'height': 317, 'width': 747}   \n",
              "783  {'x': 55, 'y': 1809, 'height': 383, 'width': 747}   \n",
              "\n",
              "                                      body_dimension  \n",
              "0     {'x': 0, 'y': 0, 'height': 3123, 'width': 785}  \n",
              "1     {'x': 0, 'y': 0, 'height': 3138, 'width': 785}  \n",
              "2     {'x': 0, 'y': 0, 'height': 3123, 'width': 785}  \n",
              "3     {'x': 0, 'y': 0, 'height': 3123, 'width': 785}  \n",
              "4     {'x': 0, 'y': 0, 'height': 3138, 'width': 785}  \n",
              "..                                               ...  \n",
              "779  {'x': 0, 'y': 0, 'height': 6897, 'width': 1024}  \n",
              "780  {'x': 0, 'y': 0, 'height': 5822, 'width': 1024}  \n",
              "781  {'x': 0, 'y': 0, 'height': 5069, 'width': 1024}  \n",
              "782  {'x': 0, 'y': 0, 'height': 5842, 'width': 1024}  \n",
              "783  {'x': 0, 'y': 0, 'height': 5619, 'width': 1024}  \n",
              "\n",
              "[784 rows x 10 columns]"
            ],
            "text/html": [
              "\n",
              "  <div id=\"df-11d43f98-9824-4b2e-99dc-9969c139fe96\">\n",
              "    <div class=\"colab-df-container\">\n",
              "      <div>\n",
              "<style scoped>\n",
              "    .dataframe tbody tr th:only-of-type {\n",
              "        vertical-align: middle;\n",
              "    }\n",
              "\n",
              "    .dataframe tbody tr th {\n",
              "        vertical-align: top;\n",
              "    }\n",
              "\n",
              "    .dataframe thead th {\n",
              "        text-align: right;\n",
              "    }\n",
              "</style>\n",
              "<table border=\"1\" class=\"dataframe\">\n",
              "  <thead>\n",
              "    <tr style=\"text-align: right;\">\n",
              "      <th></th>\n",
              "      <th>Unnamed: 0</th>\n",
              "      <th>Unnamed: 0.1</th>\n",
              "      <th>product_link</th>\n",
              "      <th>product_name</th>\n",
              "      <th>final_price</th>\n",
              "      <th>product_description</th>\n",
              "      <th>name_dimension</th>\n",
              "      <th>final_price_dimension</th>\n",
              "      <th>product_description_location</th>\n",
              "      <th>body_dimension</th>\n",
              "    </tr>\n",
              "  </thead>\n",
              "  <tbody>\n",
              "    <tr>\n",
              "      <th>0</th>\n",
              "      <td>0</td>\n",
              "      <td>0</td>\n",
              "      <td>https://www.croma.com/oppo-f19s-128gb-rom-6gb-...</td>\n",
              "      <td>Oppo F19s (128GB ROM, 6GB RAM, CPH2223, Glowin...</td>\n",
              "      <td>₹19,990.00</td>\n",
              "      <td>Key Features\\n16.34 cm (6.43\"), FHD Plus\\n6GB ...</td>\n",
              "      <td>{'x': 15, 'y': 676, 'height': 19, 'width': 755}</td>\n",
              "      <td>{'x': 15, 'y': 783, 'height': 31, 'width': 141}</td>\n",
              "      <td>{'x': 15, 'y': 971, 'height': 208, 'width': 755}</td>\n",
              "      <td>{'x': 0, 'y': 0, 'height': 3123, 'width': 785}</td>\n",
              "    </tr>\n",
              "    <tr>\n",
              "      <th>1</th>\n",
              "      <td>1</td>\n",
              "      <td>1</td>\n",
              "      <td>https://www.croma.com/oppo-a96-128gb-rom-8gb-r...</td>\n",
              "      <td>Oppo A96 (128GB ROM, 8GB RAM, Starry Black)</td>\n",
              "      <td>₹19,999.00</td>\n",
              "      <td>Key Features\\n16.73cm (6.59\"), FHD Plus Color ...</td>\n",
              "      <td>{'x': 15, 'y': 676, 'height': 19, 'width': 755}</td>\n",
              "      <td>{'x': 15, 'y': 783, 'height': 31, 'width': 141}</td>\n",
              "      <td>{'x': 15, 'y': 986, 'height': 208, 'width': 755}</td>\n",
              "      <td>{'x': 0, 'y': 0, 'height': 3138, 'width': 785}</td>\n",
              "    </tr>\n",
              "    <tr>\n",
              "      <th>2</th>\n",
              "      <td>2</td>\n",
              "      <td>2</td>\n",
              "      <td>https://www.croma.com/oppo-f21-pro-128gb-rom-8...</td>\n",
              "      <td>Oppo F21 Pro (128GB ROM, 8GB RAM, CPH2363, Sun...</td>\n",
              "      <td>₹22,999.00</td>\n",
              "      <td>Key Features\\n6.43 cm (16.33\"), AMOLED Display...</td>\n",
              "      <td>{'x': 15, 'y': 676, 'height': 19, 'width': 755}</td>\n",
              "      <td>{'x': 15, 'y': 783, 'height': 31, 'width': 145}</td>\n",
              "      <td>{'x': 15, 'y': 971, 'height': 208, 'width': 755}</td>\n",
              "      <td>{'x': 0, 'y': 0, 'height': 3123, 'width': 785}</td>\n",
              "    </tr>\n",
              "    <tr>\n",
              "      <th>3</th>\n",
              "      <td>3</td>\n",
              "      <td>3</td>\n",
              "      <td>https://www.croma.com/oppo-f21-pro-128gb-rom-8...</td>\n",
              "      <td>Oppo F21 Pro (128GB ROM, 8GB RAM, CPH2363, Cos...</td>\n",
              "      <td>₹22,999.00</td>\n",
              "      <td>Key Features\\n16.33cm (6.43\"), AMOLED Display\\...</td>\n",
              "      <td>{'x': 15, 'y': 676, 'height': 19, 'width': 755}</td>\n",
              "      <td>{'x': 15, 'y': 783, 'height': 31, 'width': 145}</td>\n",
              "      <td>{'x': 15, 'y': 971, 'height': 208, 'width': 755}</td>\n",
              "      <td>{'x': 0, 'y': 0, 'height': 3123, 'width': 785}</td>\n",
              "    </tr>\n",
              "    <tr>\n",
              "      <th>4</th>\n",
              "      <td>4</td>\n",
              "      <td>4</td>\n",
              "      <td>https://www.croma.com/vivo-v23e-5g-128gb-rom-8...</td>\n",
              "      <td>Vivo V23e 5G (128GB ROM, 8GB RAM, V2126, Midni...</td>\n",
              "      <td>₹25,990.00</td>\n",
              "      <td>Key Features\\n16.35cm (6.44”), AMOLED FHD+\\n8G...</td>\n",
              "      <td>{'x': 15, 'y': 676, 'height': 19, 'width': 755}</td>\n",
              "      <td>{'x': 15, 'y': 783, 'height': 31, 'width': 146}</td>\n",
              "      <td>{'x': 15, 'y': 986, 'height': 208, 'width': 755}</td>\n",
              "      <td>{'x': 0, 'y': 0, 'height': 3138, 'width': 785}</td>\n",
              "    </tr>\n",
              "    <tr>\n",
              "      <th>...</th>\n",
              "      <td>...</td>\n",
              "      <td>...</td>\n",
              "      <td>...</td>\n",
              "      <td>...</td>\n",
              "      <td>...</td>\n",
              "      <td>...</td>\n",
              "      <td>...</td>\n",
              "      <td>...</td>\n",
              "      <td>...</td>\n",
              "      <td>...</td>\n",
              "    </tr>\n",
              "    <tr>\n",
              "      <th>779</th>\n",
              "      <td>495</td>\n",
              "      <td>495</td>\n",
              "      <td>https://www.snapdeal.com/product/bhakarwadi-gr...</td>\n",
              "      <td>Bhakarwadi - Multicolor Cotton Blend Saree Wit...</td>\n",
              "      <td>Rs. 649</td>\n",
              "      <td>Bhakarwadi\\nColor: Multicolor\\nFabric: Cotton ...</td>\n",
              "      <td>{'x': 453, 'y': 158, 'height': 54, 'width': 393}</td>\n",
              "      <td>{'x': 451, 'y': 286, 'height': 32, 'width': 80}</td>\n",
              "      <td>{'x': 55, 'y': 1809, 'height': 383, 'width': 747}</td>\n",
              "      <td>{'x': 0, 'y': 0, 'height': 6897, 'width': 1024}</td>\n",
              "    </tr>\n",
              "    <tr>\n",
              "      <th>780</th>\n",
              "      <td>496</td>\n",
              "      <td>496</td>\n",
              "      <td>https://www.snapdeal.com/product/bhakarwadi-pu...</td>\n",
              "      <td>Bhakarwadi - Multicolor Cotton Blend Saree Wit...</td>\n",
              "      <td>Rs. 359</td>\n",
              "      <td>Bhakarwadi\\nColor: Multicolor\\nFabric: Cotton ...</td>\n",
              "      <td>{'x': 453, 'y': 158, 'height': 54, 'width': 393}</td>\n",
              "      <td>{'x': 451, 'y': 286, 'height': 32, 'width': 78}</td>\n",
              "      <td>{'x': 55, 'y': 1809, 'height': 405, 'width': 747}</td>\n",
              "      <td>{'x': 0, 'y': 0, 'height': 5822, 'width': 1024}</td>\n",
              "    </tr>\n",
              "    <tr>\n",
              "      <th>781</th>\n",
              "      <td>497</td>\n",
              "      <td>497</td>\n",
              "      <td>https://www.snapdeal.com/product/sherine-orang...</td>\n",
              "      <td>Sherine Orange Cotton Straight Kurti -</td>\n",
              "      <td>Rs. 249</td>\n",
              "      <td>Style:Straight\\nFabric:Cotton\\nProduct Length:...</td>\n",
              "      <td>{'x': 453, 'y': 158, 'height': 27, 'width': 393}</td>\n",
              "      <td>{'x': 451, 'y': 259, 'height': 32, 'width': 79}</td>\n",
              "      <td>{'x': 55, 'y': 1367, 'height': 295, 'width': 747}</td>\n",
              "      <td>{'x': 0, 'y': 0, 'height': 5069, 'width': 1024}</td>\n",
              "    </tr>\n",
              "    <tr>\n",
              "      <th>782</th>\n",
              "      <td>498</td>\n",
              "      <td>498</td>\n",
              "      <td>https://www.snapdeal.com/product/night-blue-bl...</td>\n",
              "      <td>NIGHT BLUE Black Cotton Linen Blend Saree - Si...</td>\n",
              "      <td>Rs. 289</td>\n",
              "      <td>Set Contents:With Blouse Piece\\nFabric:Cotton ...</td>\n",
              "      <td>{'x': 453, 'y': 158, 'height': 54, 'width': 393}</td>\n",
              "      <td>{'x': 451, 'y': 286, 'height': 32, 'width': 78}</td>\n",
              "      <td>{'x': 55, 'y': 1809, 'height': 317, 'width': 747}</td>\n",
              "      <td>{'x': 0, 'y': 0, 'height': 5842, 'width': 1024}</td>\n",
              "    </tr>\n",
              "    <tr>\n",
              "      <th>783</th>\n",
              "      <td>499</td>\n",
              "      <td>499</td>\n",
              "      <td>https://www.snapdeal.com/product/alexplum-oran...</td>\n",
              "      <td>Alexplum Orange,White Georgette Saree - Pack of 2</td>\n",
              "      <td>Rs. 725</td>\n",
              "      <td>Set Contents:With Blouse Piece\\nFabric:Georget...</td>\n",
              "      <td>{'x': 453, 'y': 158, 'height': 54, 'width': 393}</td>\n",
              "      <td>{'x': 451, 'y': 286, 'height': 32, 'width': 76}</td>\n",
              "      <td>{'x': 55, 'y': 1809, 'height': 383, 'width': 747}</td>\n",
              "      <td>{'x': 0, 'y': 0, 'height': 5619, 'width': 1024}</td>\n",
              "    </tr>\n",
              "  </tbody>\n",
              "</table>\n",
              "<p>784 rows × 10 columns</p>\n",
              "</div>\n",
              "      <button class=\"colab-df-convert\" onclick=\"convertToInteractive('df-11d43f98-9824-4b2e-99dc-9969c139fe96')\"\n",
              "              title=\"Convert this dataframe to an interactive table.\"\n",
              "              style=\"display:none;\">\n",
              "        \n",
              "  <svg xmlns=\"http://www.w3.org/2000/svg\" height=\"24px\"viewBox=\"0 0 24 24\"\n",
              "       width=\"24px\">\n",
              "    <path d=\"M0 0h24v24H0V0z\" fill=\"none\"/>\n",
              "    <path d=\"M18.56 5.44l.94 2.06.94-2.06 2.06-.94-2.06-.94-.94-2.06-.94 2.06-2.06.94zm-11 1L8.5 8.5l.94-2.06 2.06-.94-2.06-.94L8.5 2.5l-.94 2.06-2.06.94zm10 10l.94 2.06.94-2.06 2.06-.94-2.06-.94-.94-2.06-.94 2.06-2.06.94z\"/><path d=\"M17.41 7.96l-1.37-1.37c-.4-.4-.92-.59-1.43-.59-.52 0-1.04.2-1.43.59L10.3 9.45l-7.72 7.72c-.78.78-.78 2.05 0 2.83L4 21.41c.39.39.9.59 1.41.59.51 0 1.02-.2 1.41-.59l7.78-7.78 2.81-2.81c.8-.78.8-2.07 0-2.86zM5.41 20L4 18.59l7.72-7.72 1.47 1.35L5.41 20z\"/>\n",
              "  </svg>\n",
              "      </button>\n",
              "      \n",
              "  <style>\n",
              "    .colab-df-container {\n",
              "      display:flex;\n",
              "      flex-wrap:wrap;\n",
              "      gap: 12px;\n",
              "    }\n",
              "\n",
              "    .colab-df-convert {\n",
              "      background-color: #E8F0FE;\n",
              "      border: none;\n",
              "      border-radius: 50%;\n",
              "      cursor: pointer;\n",
              "      display: none;\n",
              "      fill: #1967D2;\n",
              "      height: 32px;\n",
              "      padding: 0 0 0 0;\n",
              "      width: 32px;\n",
              "    }\n",
              "\n",
              "    .colab-df-convert:hover {\n",
              "      background-color: #E2EBFA;\n",
              "      box-shadow: 0px 1px 2px rgba(60, 64, 67, 0.3), 0px 1px 3px 1px rgba(60, 64, 67, 0.15);\n",
              "      fill: #174EA6;\n",
              "    }\n",
              "\n",
              "    [theme=dark] .colab-df-convert {\n",
              "      background-color: #3B4455;\n",
              "      fill: #D2E3FC;\n",
              "    }\n",
              "\n",
              "    [theme=dark] .colab-df-convert:hover {\n",
              "      background-color: #434B5C;\n",
              "      box-shadow: 0px 1px 3px 1px rgba(0, 0, 0, 0.15);\n",
              "      filter: drop-shadow(0px 1px 2px rgba(0, 0, 0, 0.3));\n",
              "      fill: #FFFFFF;\n",
              "    }\n",
              "  </style>\n",
              "\n",
              "      <script>\n",
              "        const buttonEl =\n",
              "          document.querySelector('#df-11d43f98-9824-4b2e-99dc-9969c139fe96 button.colab-df-convert');\n",
              "        buttonEl.style.display =\n",
              "          google.colab.kernel.accessAllowed ? 'block' : 'none';\n",
              "\n",
              "        async function convertToInteractive(key) {\n",
              "          const element = document.querySelector('#df-11d43f98-9824-4b2e-99dc-9969c139fe96');\n",
              "          const dataTable =\n",
              "            await google.colab.kernel.invokeFunction('convertToInteractive',\n",
              "                                                     [key], {});\n",
              "          if (!dataTable) return;\n",
              "\n",
              "          const docLinkHtml = 'Like what you see? Visit the ' +\n",
              "            '<a target=\"_blank\" href=https://colab.research.google.com/notebooks/data_table.ipynb>data table notebook</a>'\n",
              "            + ' to learn more about interactive tables.';\n",
              "          element.innerHTML = '';\n",
              "          dataTable['output_type'] = 'display_data';\n",
              "          await google.colab.output.renderOutput(dataTable, element);\n",
              "          const docLink = document.createElement('div');\n",
              "          docLink.innerHTML = docLinkHtml;\n",
              "          element.appendChild(docLink);\n",
              "        }\n",
              "      </script>\n",
              "    </div>\n",
              "  </div>\n",
              "  "
            ]
          },
          "metadata": {},
          "execution_count": 14
        }
      ]
    },
    {
      "cell_type": "code",
      "source": [
        "t_ups.accuracy(t_df.sample(n = 1), 10)"
      ],
      "metadata": {
        "colab": {
          "base_uri": "https://localhost:8080/"
        },
        "id": "baygGKk_FMHc",
        "outputId": "539bfed4-2fb3-46ea-fac9-b55dadbc3dd3"
      },
      "execution_count": null,
      "outputs": [
        {
          "output_type": "execute_result",
          "data": {
            "text/plain": [
              "{'complete model': [100.0, 0.0, 0.0, 0.0, 0.0, 0.0, 0.0, 0.0, 0.0, 0.0],\n",
              " 'dimension based model': 100.0,\n",
              " 'position based model': [100.0, 0.0, 0.0, 0.0, 0.0, 0.0, 0.0, 0.0, 0.0, 0.0],\n",
              " 'tag based model': [100.0, 0.0, 0.0, 0.0, 0.0, 0.0, 0.0, 0.0, 0.0, 0.0]}"
            ]
          },
          "metadata": {},
          "execution_count": 15
        }
      ]
    },
    {
      "cell_type": "code",
      "source": [
        "for i in range(1):\n",
        "  r = t_ups.accuracy(df.sample(n = 5), 10)\n",
        "  with open('/content/drive/MyDrive/ML/UPS_Dataset/Accuracies/tresult' + str(i) , 'wb') as f:\n",
        "    pickle.dump(r, f)"
      ],
      "metadata": {
        "id": "f0V2ydg2j47K"
      },
      "execution_count": null,
      "outputs": []
    },
    {
      "cell_type": "code",
      "source": [
        "tag_results = [0 for _ in range(10)]\n",
        "pos_results = [0 for _ in range(10)]\n",
        "com_results = [0 for _ in range(10)]\n",
        "dim_results = 0"
      ],
      "metadata": {
        "id": "LOZ0gsKgtGLh"
      },
      "execution_count": null,
      "outputs": []
    },
    {
      "cell_type": "code",
      "source": [
        "for i in range(3):\n",
        "  with open('/content/drive/MyDrive/ML/UPS_Dataset/Accuracies/tresult' + str(i) , 'rb') as f:\n",
        "    r = pickle.load(f)\n",
        "    for j in range(10):\n",
        "      tag_results[j] += (r['tag based model'][j] / 10)\n",
        "      pos_results[j] += (r['position based model'][j] / 10)\n",
        "      com_results[j] += (r['complete model'][j] / 10)\n",
        "    dim_results += (r['dimension based model'] / 10)\n",
        "\n",
        "for i in range(10):\n",
        "  tag_results[i] = tag_results[i] * 100 / 25\n",
        "  com_results[i] = com_results[i] * 100 / 25\n",
        "  pos_results[i] = pos_results[i] * 100 / 25\n",
        "\n",
        "dim_results = dim_results * 100 / 30"
      ],
      "metadata": {
        "id": "ejUme_aptK2Q"
      },
      "execution_count": null,
      "outputs": []
    },
    {
      "cell_type": "code",
      "source": [
        "tag_results"
      ],
      "metadata": {
        "id": "KqeKd194GhBY",
        "colab": {
          "base_uri": "https://localhost:8080/"
        },
        "outputId": "98d8e47c-8fda-428b-ad95-8e9b07869d82"
      },
      "execution_count": null,
      "outputs": [
        {
          "output_type": "execute_result",
          "data": {
            "text/plain": [
              "[100.0, 0.0, 0.0, 0.0, 0.0, 0.0, 0.0, 0.0, 0.0, 0.0]"
            ]
          },
          "metadata": {},
          "execution_count": 64
        }
      ]
    },
    {
      "cell_type": "code",
      "source": [
        "com_results"
      ],
      "metadata": {
        "id": "aOzbHbbxGj6z",
        "colab": {
          "base_uri": "https://localhost:8080/"
        },
        "outputId": "99f81c6b-e2f2-4812-e3c4-4c41eb0fcbf6"
      },
      "execution_count": null,
      "outputs": [
        {
          "output_type": "execute_result",
          "data": {
            "text/plain": [
              "[60.0, 8.0, 24.0, 0.0, 4.0, 4.0, 0.0, 0.0, 0.0, 0.0]"
            ]
          },
          "metadata": {},
          "execution_count": 65
        }
      ]
    },
    {
      "cell_type": "code",
      "source": [
        "dim_results"
      ],
      "metadata": {
        "id": "8KX4OedaGnwE",
        "colab": {
          "base_uri": "https://localhost:8080/"
        },
        "outputId": "4da3fbe9-5c15-4be7-da19-d9aa43e4faf2"
      },
      "execution_count": null,
      "outputs": [
        {
          "output_type": "execute_result",
          "data": {
            "text/plain": [
              "83.33333333333333"
            ]
          },
          "metadata": {},
          "execution_count": 66
        }
      ]
    }
  ]
}